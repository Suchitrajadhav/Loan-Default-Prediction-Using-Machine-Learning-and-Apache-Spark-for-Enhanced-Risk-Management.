{
  "nbformat": 4,
  "nbformat_minor": 0,
  "metadata": {
    "colab": {
      "provenance": []
    },
    "kernelspec": {
      "name": "python3",
      "display_name": "Python 3"
    },
    "language_info": {
      "name": "python"
    }
  },
  "cells": [
    {
      "cell_type": "code",
      "execution_count": null,
      "metadata": {
        "colab": {
          "base_uri": "https://localhost:8080/"
        },
        "id": "DDRdSiyY_2VY",
        "outputId": "fbf1581f-15f5-4b0f-cc86-05b55d666c4f"
      },
      "outputs": [
        {
          "output_type": "stream",
          "name": "stdout",
          "text": [
            "       LoanID  Age  Income  LoanAmount  CreditScore  MonthsEmployed  \\\n",
            "0  I38PQUQS96   56   85994       50587          520              80   \n",
            "1  HPSK72WA7R   69   50432      124440          458              15   \n",
            "2  C1OZ6DPJ8Y   46   84208      129188          451              26   \n",
            "3  V2KKSFM3UN   32   31713       44799          743               0   \n",
            "4  EY08JDHTZP   60   20437        9139          633               8   \n",
            "\n",
            "   NumCreditLines  InterestRate  LoanTerm  DTIRatio    Education  \\\n",
            "0               4         15.23        36      0.44   Bachelor's   \n",
            "1               1          4.81        60      0.68     Master's   \n",
            "2               3         21.17        24      0.31     Master's   \n",
            "3               3          7.07        24      0.23  High School   \n",
            "4               4          6.51        48      0.73   Bachelor's   \n",
            "\n",
            "  EmploymentType MaritalStatus HasMortgage HasDependents LoanPurpose  \\\n",
            "0      Full-time      Divorced         Yes           Yes       Other   \n",
            "1      Full-time       Married          No            No       Other   \n",
            "2     Unemployed      Divorced         Yes           Yes        Auto   \n",
            "3      Full-time       Married          No            No    Business   \n",
            "4     Unemployed      Divorced          No           Yes        Auto   \n",
            "\n",
            "  HasCoSigner  Default  \n",
            "0         Yes        0  \n",
            "1         Yes        0  \n",
            "2          No        1  \n",
            "3          No        0  \n",
            "4          No        0  \n"
          ]
        }
      ],
      "source": [
        "\n",
        "import pandas as pd\n",
        "df=pd.read_csv(\"/content/Original_data1.csv\")\n",
        "print(df.head())"
      ]
    },
    {
      "cell_type": "code",
      "source": [
        "df.shape"
      ],
      "metadata": {
        "colab": {
          "base_uri": "https://localhost:8080/"
        },
        "id": "JTb2kMWOEwKT",
        "outputId": "81a37959-183d-4e36-9d05-e5b042d43851"
      },
      "execution_count": null,
      "outputs": [
        {
          "output_type": "execute_result",
          "data": {
            "text/plain": [
              "(255347, 18)"
            ]
          },
          "metadata": {},
          "execution_count": 4
        }
      ]
    },
    {
      "cell_type": "code",
      "source": [
        "df.columns"
      ],
      "metadata": {
        "colab": {
          "base_uri": "https://localhost:8080/"
        },
        "id": "rcCnWVKFEuQJ",
        "outputId": "3ff82d31-8c4f-4521-e1c4-fd4ee51b42eb"
      },
      "execution_count": null,
      "outputs": [
        {
          "output_type": "execute_result",
          "data": {
            "text/plain": [
              "Index(['LoanID', 'Age', 'Income', 'LoanAmount', 'CreditScore',\n",
              "       'MonthsEmployed', 'NumCreditLines', 'InterestRate', 'LoanTerm',\n",
              "       'DTIRatio', 'Education', 'EmploymentType', 'MaritalStatus',\n",
              "       'HasMortgage', 'HasDependents', 'LoanPurpose', 'HasCoSigner',\n",
              "       'Default'],\n",
              "      dtype='object')"
            ]
          },
          "metadata": {},
          "execution_count": 5
        }
      ]
    },
    {
      "cell_type": "code",
      "source": [
        "df.EmploymentType.unique()"
      ],
      "metadata": {
        "colab": {
          "base_uri": "https://localhost:8080/"
        },
        "id": "8uB0pFuKEpUK",
        "outputId": "3617c1f8-d39c-4ba1-d072-95abb7b057e5"
      },
      "execution_count": null,
      "outputs": [
        {
          "output_type": "execute_result",
          "data": {
            "text/plain": [
              "array(['Full-time', 'Unemployed', 'Self-employed', 'Part-time'],\n",
              "      dtype=object)"
            ]
          },
          "metadata": {},
          "execution_count": 6
        }
      ]
    },
    {
      "cell_type": "code",
      "source": [
        "!python --version\n",
        "\n",
        "!pip install imbalanced-learn\n"
      ],
      "metadata": {
        "colab": {
          "base_uri": "https://localhost:8080/"
        },
        "id": "1p8Uzo-jEkhw",
        "outputId": "0f6dc861-4d19-444c-d2e7-d22a35479080"
      },
      "execution_count": null,
      "outputs": [
        {
          "output_type": "stream",
          "name": "stdout",
          "text": [
            "Python 3.11.13\n",
            "Requirement already satisfied: imbalanced-learn in /usr/local/lib/python3.11/dist-packages (0.13.0)\n",
            "Requirement already satisfied: numpy<3,>=1.24.3 in /usr/local/lib/python3.11/dist-packages (from imbalanced-learn) (2.0.2)\n",
            "Requirement already satisfied: scipy<2,>=1.10.1 in /usr/local/lib/python3.11/dist-packages (from imbalanced-learn) (1.16.0)\n",
            "Requirement already satisfied: scikit-learn<2,>=1.3.2 in /usr/local/lib/python3.11/dist-packages (from imbalanced-learn) (1.6.1)\n",
            "Requirement already satisfied: sklearn-compat<1,>=0.1 in /usr/local/lib/python3.11/dist-packages (from imbalanced-learn) (0.1.3)\n",
            "Requirement already satisfied: joblib<2,>=1.1.1 in /usr/local/lib/python3.11/dist-packages (from imbalanced-learn) (1.5.1)\n",
            "Requirement already satisfied: threadpoolctl<4,>=2.0.0 in /usr/local/lib/python3.11/dist-packages (from imbalanced-learn) (3.6.0)\n"
          ]
        }
      ]
    },
    {
      "cell_type": "code",
      "source": [
        "df['Default'].value_counts(normalize=True)"
      ],
      "metadata": {
        "colab": {
          "base_uri": "https://localhost:8080/",
          "height": 178
        },
        "id": "tnMJpg5QFDZs",
        "outputId": "a099d0be-baf4-4a4b-92ab-33865a875e06"
      },
      "execution_count": null,
      "outputs": [
        {
          "output_type": "execute_result",
          "data": {
            "text/plain": [
              "Default\n",
              "0    0.883872\n",
              "1    0.116128\n",
              "Name: proportion, dtype: float64"
            ],
            "text/html": [
              "<div>\n",
              "<style scoped>\n",
              "    .dataframe tbody tr th:only-of-type {\n",
              "        vertical-align: middle;\n",
              "    }\n",
              "\n",
              "    .dataframe tbody tr th {\n",
              "        vertical-align: top;\n",
              "    }\n",
              "\n",
              "    .dataframe thead th {\n",
              "        text-align: right;\n",
              "    }\n",
              "</style>\n",
              "<table border=\"1\" class=\"dataframe\">\n",
              "  <thead>\n",
              "    <tr style=\"text-align: right;\">\n",
              "      <th></th>\n",
              "      <th>proportion</th>\n",
              "    </tr>\n",
              "    <tr>\n",
              "      <th>Default</th>\n",
              "      <th></th>\n",
              "    </tr>\n",
              "  </thead>\n",
              "  <tbody>\n",
              "    <tr>\n",
              "      <th>0</th>\n",
              "      <td>0.883872</td>\n",
              "    </tr>\n",
              "    <tr>\n",
              "      <th>1</th>\n",
              "      <td>0.116128</td>\n",
              "    </tr>\n",
              "  </tbody>\n",
              "</table>\n",
              "</div><br><label><b>dtype:</b> float64</label>"
            ]
          },
          "metadata": {},
          "execution_count": 8
        }
      ]
    },
    {
      "cell_type": "code",
      "source": [
        "X= df.drop(columns=['Default'])\n",
        "Y= df['Default']\n"
      ],
      "metadata": {
        "id": "x19gteoKFNdA"
      },
      "execution_count": null,
      "outputs": []
    },
    {
      "cell_type": "code",
      "source": [
        "from imblearn.over_sampling import SMOTE\n",
        "\n",
        "# Use only numeric features (from your earlier list)\n",
        "selected_features = [\n",
        "    'Age', 'Income', 'LoanAmount', 'CreditScore', 'MonthsEmployed',\n",
        "     'InterestRate', 'LoanTerm', 'DTIRatio'\n",
        "]\n",
        "\n",
        "X = df[selected_features]\n",
        "y = df['Default']\n",
        "\n",
        "# Apply SMOTE\n",
        "smote = SMOTE(random_state=42)\n",
        "X_resampled, y_resampled = smote.fit_resample(X, y)\n",
        "\n",
        "print(f\"✅ After SMOTE: {X_resampled.shape}, Class balance: {y_resampled.value_counts().to_dict()}\")\n"
      ],
      "metadata": {
        "id": "xC6lr6IGFQIe",
        "colab": {
          "base_uri": "https://localhost:8080/"
        },
        "outputId": "00220183-0451-4d16-ee45-d03a6f86716d"
      },
      "execution_count": null,
      "outputs": [
        {
          "output_type": "stream",
          "name": "stdout",
          "text": [
            "✅ After SMOTE: (451388, 8), Class balance: {0: 225694, 1: 225694}\n"
          ]
        }
      ]
    },
    {
      "cell_type": "code",
      "source": [
        "# Step 3: Combine resampled features and target variable into a new DataFrame\n",
        "resampled_df = pd.DataFrame(X_resampled, columns=X.columns)\n",
        "resampled_df[\"Default\"] = y_resampled\n",
        "\n",
        "resampled_df.to_csv('Processed_data.csv', index=False)\n",
        "\n",
        "resampled_df.head()\n",
        "\n",
        "resampled_df['Default'].value_counts(normalize=True)"
      ],
      "metadata": {
        "id": "ux2vGNz3FTY9",
        "colab": {
          "base_uri": "https://localhost:8080/",
          "height": 178
        },
        "outputId": "206e85a4-388e-4437-aa38-9c9970d6ccb1"
      },
      "execution_count": null,
      "outputs": [
        {
          "output_type": "execute_result",
          "data": {
            "text/plain": [
              "Default\n",
              "0    0.5\n",
              "1    0.5\n",
              "Name: proportion, dtype: float64"
            ],
            "text/html": [
              "<div>\n",
              "<style scoped>\n",
              "    .dataframe tbody tr th:only-of-type {\n",
              "        vertical-align: middle;\n",
              "    }\n",
              "\n",
              "    .dataframe tbody tr th {\n",
              "        vertical-align: top;\n",
              "    }\n",
              "\n",
              "    .dataframe thead th {\n",
              "        text-align: right;\n",
              "    }\n",
              "</style>\n",
              "<table border=\"1\" class=\"dataframe\">\n",
              "  <thead>\n",
              "    <tr style=\"text-align: right;\">\n",
              "      <th></th>\n",
              "      <th>proportion</th>\n",
              "    </tr>\n",
              "    <tr>\n",
              "      <th>Default</th>\n",
              "      <th></th>\n",
              "    </tr>\n",
              "  </thead>\n",
              "  <tbody>\n",
              "    <tr>\n",
              "      <th>0</th>\n",
              "      <td>0.5</td>\n",
              "    </tr>\n",
              "    <tr>\n",
              "      <th>1</th>\n",
              "      <td>0.5</td>\n",
              "    </tr>\n",
              "  </tbody>\n",
              "</table>\n",
              "</div><br><label><b>dtype:</b> float64</label>"
            ]
          },
          "metadata": {},
          "execution_count": 11
        }
      ]
    },
    {
      "cell_type": "code",
      "source": [
        "\"\"\"# **Feature Reduction**\"\"\"\n",
        "\n",
        "X = resampled_df[['Age', 'Income', 'LoanAmount', 'CreditScore','MonthsEmployed','InterestRate','DTIRatio','LoanTerm']]\n",
        "Y= resampled_df['Default']\n",
        "\n",
        "X.shape,Y.shape"
      ],
      "metadata": {
        "id": "yWFiXR1AFcnA",
        "colab": {
          "base_uri": "https://localhost:8080/"
        },
        "outputId": "64acc756-d6bc-4c42-d3a7-5ba649088eeb"
      },
      "execution_count": null,
      "outputs": [
        {
          "output_type": "execute_result",
          "data": {
            "text/plain": [
              "((451388, 8), (451388,))"
            ]
          },
          "metadata": {},
          "execution_count": 12
        }
      ]
    },
    {
      "cell_type": "code",
      "source": [
        "# Step 3: Combine resampled features and target variable into a new DataFrame\n",
        "final_df = pd.DataFrame(X, columns=X.columns)\n",
        "final_df[\"Default\"] = Y\n",
        "\n",
        "final_df.head()\n",
        "\n",
        "final_df.shape\n",
        "\n",
        "final_df.to_csv('Selected_features.csv', index=False)\n"
      ],
      "metadata": {
        "id": "2ho5xF6eFgGM"
      },
      "execution_count": null,
      "outputs": []
    },
    {
      "cell_type": "code",
      "source": [
        "df.shape"
      ],
      "metadata": {
        "id": "feWsmKMaFqL3",
        "colab": {
          "base_uri": "https://localhost:8080/"
        },
        "outputId": "0a6fff9a-00ab-4621-e10b-16f4aec5abbe"
      },
      "execution_count": null,
      "outputs": [
        {
          "output_type": "execute_result",
          "data": {
            "text/plain": [
              "(255347, 18)"
            ]
          },
          "metadata": {},
          "execution_count": 14
        }
      ]
    },
    {
      "cell_type": "code",
      "source": [
        "df.isnull().sum()"
      ],
      "metadata": {
        "id": "22cV1WYnFq2K",
        "colab": {
          "base_uri": "https://localhost:8080/",
          "height": 648
        },
        "outputId": "f1c4afb9-bd3e-4554-f996-59726f18c768"
      },
      "execution_count": null,
      "outputs": [
        {
          "output_type": "execute_result",
          "data": {
            "text/plain": [
              "LoanID            0\n",
              "Age               0\n",
              "Income            0\n",
              "LoanAmount        0\n",
              "CreditScore       0\n",
              "MonthsEmployed    0\n",
              "NumCreditLines    0\n",
              "InterestRate      0\n",
              "LoanTerm          0\n",
              "DTIRatio          0\n",
              "Education         0\n",
              "EmploymentType    0\n",
              "MaritalStatus     0\n",
              "HasMortgage       0\n",
              "HasDependents     0\n",
              "LoanPurpose       0\n",
              "HasCoSigner       0\n",
              "Default           0\n",
              "dtype: int64"
            ],
            "text/html": [
              "<div>\n",
              "<style scoped>\n",
              "    .dataframe tbody tr th:only-of-type {\n",
              "        vertical-align: middle;\n",
              "    }\n",
              "\n",
              "    .dataframe tbody tr th {\n",
              "        vertical-align: top;\n",
              "    }\n",
              "\n",
              "    .dataframe thead th {\n",
              "        text-align: right;\n",
              "    }\n",
              "</style>\n",
              "<table border=\"1\" class=\"dataframe\">\n",
              "  <thead>\n",
              "    <tr style=\"text-align: right;\">\n",
              "      <th></th>\n",
              "      <th>0</th>\n",
              "    </tr>\n",
              "  </thead>\n",
              "  <tbody>\n",
              "    <tr>\n",
              "      <th>LoanID</th>\n",
              "      <td>0</td>\n",
              "    </tr>\n",
              "    <tr>\n",
              "      <th>Age</th>\n",
              "      <td>0</td>\n",
              "    </tr>\n",
              "    <tr>\n",
              "      <th>Income</th>\n",
              "      <td>0</td>\n",
              "    </tr>\n",
              "    <tr>\n",
              "      <th>LoanAmount</th>\n",
              "      <td>0</td>\n",
              "    </tr>\n",
              "    <tr>\n",
              "      <th>CreditScore</th>\n",
              "      <td>0</td>\n",
              "    </tr>\n",
              "    <tr>\n",
              "      <th>MonthsEmployed</th>\n",
              "      <td>0</td>\n",
              "    </tr>\n",
              "    <tr>\n",
              "      <th>NumCreditLines</th>\n",
              "      <td>0</td>\n",
              "    </tr>\n",
              "    <tr>\n",
              "      <th>InterestRate</th>\n",
              "      <td>0</td>\n",
              "    </tr>\n",
              "    <tr>\n",
              "      <th>LoanTerm</th>\n",
              "      <td>0</td>\n",
              "    </tr>\n",
              "    <tr>\n",
              "      <th>DTIRatio</th>\n",
              "      <td>0</td>\n",
              "    </tr>\n",
              "    <tr>\n",
              "      <th>Education</th>\n",
              "      <td>0</td>\n",
              "    </tr>\n",
              "    <tr>\n",
              "      <th>EmploymentType</th>\n",
              "      <td>0</td>\n",
              "    </tr>\n",
              "    <tr>\n",
              "      <th>MaritalStatus</th>\n",
              "      <td>0</td>\n",
              "    </tr>\n",
              "    <tr>\n",
              "      <th>HasMortgage</th>\n",
              "      <td>0</td>\n",
              "    </tr>\n",
              "    <tr>\n",
              "      <th>HasDependents</th>\n",
              "      <td>0</td>\n",
              "    </tr>\n",
              "    <tr>\n",
              "      <th>LoanPurpose</th>\n",
              "      <td>0</td>\n",
              "    </tr>\n",
              "    <tr>\n",
              "      <th>HasCoSigner</th>\n",
              "      <td>0</td>\n",
              "    </tr>\n",
              "    <tr>\n",
              "      <th>Default</th>\n",
              "      <td>0</td>\n",
              "    </tr>\n",
              "  </tbody>\n",
              "</table>\n",
              "</div><br><label><b>dtype:</b> int64</label>"
            ]
          },
          "metadata": {},
          "execution_count": 15
        }
      ]
    },
    {
      "cell_type": "code",
      "source": [
        "\"\"\"# TrainTest Split\"\"\"\n",
        "\n",
        "from sklearn.model_selection import train_test_split\n",
        "X_train, X_test, y_train, y_test = train_test_split(X, Y, test_size=0.2, random_state=7,stratify = Y)\n",
        "\n",
        "X_train.head()\n",
        "\n",
        "X_train.isnull().sum()\n"
      ],
      "metadata": {
        "id": "SbaS9nFKFze2",
        "colab": {
          "base_uri": "https://localhost:8080/",
          "height": 335
        },
        "outputId": "a4fecc39-72a9-4d63-ec5a-aaa71fac7c61"
      },
      "execution_count": null,
      "outputs": [
        {
          "output_type": "execute_result",
          "data": {
            "text/plain": [
              "Age               0\n",
              "Income            0\n",
              "LoanAmount        0\n",
              "CreditScore       0\n",
              "MonthsEmployed    0\n",
              "InterestRate      0\n",
              "DTIRatio          0\n",
              "LoanTerm          0\n",
              "dtype: int64"
            ],
            "text/html": [
              "<div>\n",
              "<style scoped>\n",
              "    .dataframe tbody tr th:only-of-type {\n",
              "        vertical-align: middle;\n",
              "    }\n",
              "\n",
              "    .dataframe tbody tr th {\n",
              "        vertical-align: top;\n",
              "    }\n",
              "\n",
              "    .dataframe thead th {\n",
              "        text-align: right;\n",
              "    }\n",
              "</style>\n",
              "<table border=\"1\" class=\"dataframe\">\n",
              "  <thead>\n",
              "    <tr style=\"text-align: right;\">\n",
              "      <th></th>\n",
              "      <th>0</th>\n",
              "    </tr>\n",
              "  </thead>\n",
              "  <tbody>\n",
              "    <tr>\n",
              "      <th>Age</th>\n",
              "      <td>0</td>\n",
              "    </tr>\n",
              "    <tr>\n",
              "      <th>Income</th>\n",
              "      <td>0</td>\n",
              "    </tr>\n",
              "    <tr>\n",
              "      <th>LoanAmount</th>\n",
              "      <td>0</td>\n",
              "    </tr>\n",
              "    <tr>\n",
              "      <th>CreditScore</th>\n",
              "      <td>0</td>\n",
              "    </tr>\n",
              "    <tr>\n",
              "      <th>MonthsEmployed</th>\n",
              "      <td>0</td>\n",
              "    </tr>\n",
              "    <tr>\n",
              "      <th>InterestRate</th>\n",
              "      <td>0</td>\n",
              "    </tr>\n",
              "    <tr>\n",
              "      <th>DTIRatio</th>\n",
              "      <td>0</td>\n",
              "    </tr>\n",
              "    <tr>\n",
              "      <th>LoanTerm</th>\n",
              "      <td>0</td>\n",
              "    </tr>\n",
              "  </tbody>\n",
              "</table>\n",
              "</div><br><label><b>dtype:</b> int64</label>"
            ]
          },
          "metadata": {},
          "execution_count": 16
        }
      ]
    },
    {
      "cell_type": "code",
      "source": [
        "\"\"\"# **Getting Feature importance**\n",
        "\n",
        "# APPLY DECISION TREE\n",
        "\"\"\"\n",
        "\n",
        "from sklearn.tree import DecisionTreeClassifier\n",
        "\n",
        "dt = DecisionTreeClassifier(random_state = 7)\n",
        "dt.fit(X_train,y_train)\n",
        "\n",
        "# importance of all features\n",
        "sorted(zip(dt.feature_importances_,X_train.columns),reverse = True)\n",
        "\n",
        "# 2) mean importance take col > mean import\n",
        "mean_imp = sum(dt.feature_importances_)/len(dt.feature_importances_)\n",
        "X_train.columns[dt.feature_importances_ > mean_imp ]\n",
        "\n",
        "# 3) Select top 5\n",
        "sorted(zip(dt.feature_importances_,X_train.columns),reverse = True)[:5]"
      ],
      "metadata": {
        "id": "6lw_TfrOF2CC",
        "colab": {
          "base_uri": "https://localhost:8080/"
        },
        "outputId": "083d6178-78ed-45d4-849c-8a0be164a5cd"
      },
      "execution_count": null,
      "outputs": [
        {
          "output_type": "execute_result",
          "data": {
            "text/plain": [
              "[(np.float64(0.34417827405943013), 'LoanTerm'),\n",
              " (np.float64(0.13383252916726077), 'Age'),\n",
              " (np.float64(0.12421017444519757), 'InterestRate'),\n",
              " (np.float64(0.09982788854927357), 'Income'),\n",
              " (np.float64(0.0943410347682023), 'LoanAmount')]"
            ]
          },
          "metadata": {},
          "execution_count": 17
        }
      ]
    },
    {
      "cell_type": "code",
      "source": [
        "\"\"\"# APPLY RFE\"\"\"\n",
        "\n",
        "from sklearn.feature_selection import RFE\n",
        "\n",
        "rfe = RFE(dt)\n",
        "rfe.fit(X_train,y_train)\n",
        "\n",
        "for imp,col in sorted(zip(rfe.ranking_,X_train.columns)):\n",
        "    print(f\"{col} = {imp}\")\n",
        "\n",
        "#2) important column rank = 1\n",
        "\n",
        "print(\"Column Count = \",len(X_train.columns[rfe.ranking_ == 1  ]))\n",
        "X_train.columns[rfe.ranking_ == 1 ]"
      ],
      "metadata": {
        "id": "iGmkL5thF9AD",
        "colab": {
          "base_uri": "https://localhost:8080/"
        },
        "outputId": "4518fc6f-909b-4847-f4ea-87a24c17a11e"
      },
      "execution_count": null,
      "outputs": [
        {
          "output_type": "stream",
          "name": "stdout",
          "text": [
            "Income = 1\n",
            "InterestRate = 1\n",
            "LoanAmount = 1\n",
            "LoanTerm = 1\n",
            "Age = 2\n",
            "CreditScore = 3\n",
            "MonthsEmployed = 4\n",
            "DTIRatio = 5\n",
            "Column Count =  4\n"
          ]
        },
        {
          "output_type": "execute_result",
          "data": {
            "text/plain": [
              "Index(['Income', 'LoanAmount', 'InterestRate', 'LoanTerm'], dtype='object')"
            ]
          },
          "metadata": {},
          "execution_count": 18
        }
      ]
    },
    {
      "cell_type": "code",
      "source": [
        "import pandas as pd\n",
        "import seaborn as sns\n",
        "import matplotlib.pyplot as plt\n",
        "\n",
        "# The error was caused because the original `df` still contained\n",
        "# non-numeric columns. Using the one-hot encoded dataframe `X_encoded`\n",
        "# which contains only numeric data.\n",
        "X_for_corr = resampled_df.copy()\n",
        "# X_for_corr['Default'] = y_resampled # This line is not needed as resampled_df already has the 'Default' column\n",
        "\n",
        "\n",
        "plt.figure(figsize=(8, 6))\n",
        "sns.boxplot(x=X_for_corr[\"Default\"], y=X_for_corr[\"LoanAmount\"])\n",
        "plt.title(\"Box Plot of Loan Amount by Class\")\n",
        "plt.xlabel(\"Class (0 = No Default, 1 = Default)\")\n",
        "plt.ylabel(\"Loan Amount\")\n",
        "plt.show()\n",
        "\n",
        "\"\"\"# Correlation\"\"\"\n",
        "\n",
        "# Compute correlation matrix\n",
        "correlation_matrix = X_for_corr.corr()\n",
        "\n",
        "# Print correlation matrix\n",
        "print(correlation_matrix)\n",
        "\n",
        "\"\"\"# HeatMap\"\"\"\n",
        "\n",
        "import seaborn as sns\n",
        "import matplotlib.pyplot as plt\n",
        "\n",
        "# Create a heatmap\n",
        "plt.figure(figsize=(12, 10))\n",
        "sns.heatmap(correlation_matrix, annot=False, cmap=\"coolwarm\")\n",
        "\n",
        "# Show the plot\n",
        "plt.title(\"Correlation Heatmap\")\n",
        "plt.show()\n",
        "\n",
        "X = X_resampled\n",
        "Y= y_resampled\n",
        "\n",
        "from sklearn.model_selection import train_test_split\n",
        "X_train,X_test,Y_train,Y_test = train_test_split(X,Y,test_size=0.3,random_state=7)\n",
        "\n",
        "X_train.shape,X_test.shape,Y_train.shape,Y_test.shape"
      ],
      "metadata": {
        "id": "zhSkjnbaF9De",
        "colab": {
          "base_uri": "https://localhost:8080/",
          "height": 1000
        },
        "outputId": "6686857c-1007-462f-e2bd-9bf5cf28fba0"
      },
      "execution_count": null,
      "outputs": [
        {
          "output_type": "display_data",
          "data": {
            "text/plain": [
              "<Figure size 800x600 with 1 Axes>"
            ],
            "image/png": "[encoded data removed]"
          },
          "metadata": {}
        },
        {
          "output_type": "stream",
          "name": "stdout",
          "text": [
            "                     Age    Income  LoanAmount  CreditScore  MonthsEmployed  \\\n",
            "Age             1.000000  0.015184   -0.019221     0.011782        0.033018   \n",
            "Income          0.015184  1.000000   -0.069877     0.000375        0.009705   \n",
            "LoanAmount     -0.019221 -0.069877    1.000000    -0.001781       -0.007089   \n",
            "CreditScore     0.011782  0.000375   -0.001781     1.000000        0.010286   \n",
            "MonthsEmployed  0.033018  0.009705   -0.007089     0.010286        1.000000   \n",
            "InterestRate   -0.047432 -0.014351    0.009952    -0.008029       -0.022212   \n",
            "LoanTerm        0.000639 -0.000211   -0.000392     0.001362       -0.001372   \n",
            "DTIRatio       -0.011840 -0.000454    0.002259     0.001314       -0.003029   \n",
            "Default        -0.295708 -0.150234    0.135298    -0.060132       -0.169656   \n",
            "\n",
            "                InterestRate  LoanTerm  DTIRatio   Default  \n",
            "Age                -0.047432  0.000639 -0.011840 -0.295708  \n",
            "Income             -0.014351 -0.000211 -0.000454 -0.150234  \n",
            "LoanAmount          0.009952 -0.000392  0.002259  0.135298  \n",
            "CreditScore        -0.008029  0.001362  0.001314 -0.060132  \n",
            "MonthsEmployed     -0.022212 -0.001372 -0.003029 -0.169656  \n",
            "InterestRate        1.000000 -0.000548  0.005227  0.220965  \n",
            "LoanTerm           -0.000548  1.000000  0.003979 -0.008753  \n",
            "DTIRatio            0.005227  0.003979  1.000000  0.033027  \n",
            "Default             0.220965 -0.008753  0.033027  1.000000  \n"
          ]
        },
        {
          "output_type": "display_data",
          "data": {
            "text/plain": [
              "<Figure size 1200x1000 with 2 Axes>"
            ],
            "image/png": "[encoded data removed]"
          },
          "metadata": {}
        },
        {
          "output_type": "execute_result",
          "data": {
            "text/plain": [
              "((315971, 8), (135417, 8), (315971,), (135417,))"
            ]
          },
          "metadata": {},
          "execution_count": 20
        }
      ]
    },
    {
      "cell_type": "code",
      "source": [
        "#Entrypoint 2.x\n",
        "from pyspark.sql import SparkSession\n",
        "spark = SparkSession.builder.master(\"local\").appName(\"Spark SQL basic example\").enableHiveSupport().getOrCreate()\n",
        "\n",
        "# On yarn:\n",
        "# spark = SparkSession.builder.appName(\"Spark SQL basic example\").enableHiveSupport().master(\"yarn\").getOrCreate()\n",
        "# specify .master(\"yarn\")\n",
        "\n",
        "sc = spark.sparkContext\n",
        "\n",
        "file_path =\"/content/Original_data1.csv\"\n",
        "\n",
        "# Create an DataFrame from file_path\n",
        "df = spark.read.csv(file_path,header=True,inferSchema=True)\n",
        "\n",
        "# Check the type of people_df\n",
        "#print(\"The type of people_df is\", type(people_df))\n",
        "\n",
        "from pyspark.sql.functions import col\n",
        "# Get the total count of records\n",
        "total_count = df.count()\n",
        "\n",
        "# Get the count of each class (0 and 1)\n",
        "class_counts = df.groupBy(\"Default\").count()\n",
        "\n",
        "# Calculate the proportion of each class\n",
        "class_proportions = class_counts.withColumn(\"proportion\", col(\"count\") / total_count)\n",
        "\n",
        "# Show the result\n",
        "class_proportions.show()"
      ],
      "metadata": {
        "id": "fO33v4WwFaPf"
      },
      "execution_count": null,
      "outputs": []
    },
    {
      "cell_type": "code",
      "source": [
        "from sklearn.linear_model import LogisticRegression\n",
        "from sklearn.metrics import accuracy_score, confusion_matrix, classification_report, recall_score\n",
        "\n",
        "# Use balanced class weights to improve recall on minority class\n",
        "logreg = LogisticRegression(class_weight='balanced', random_state=7, max_iter=1000)\n",
        "\n",
        "# Fit the model\n",
        "logreg.fit(X_train, Y_train)\n",
        "\n",
        "# Predict\n",
        "y_pred = logreg.predict(X_test)\n",
        "\n",
        "# Evaluate\n",
        "accuracy = accuracy_score(Y_test, y_pred)\n",
        "recall = recall_score(Y_test, y_pred)\n",
        "conf_matrix = confusion_matrix(Y_test, y_pred)\n",
        "\n",
        "\n",
        "print(f\"✅ Accuracy: {accuracy:.4f}\")\n",
        "print(f\"🔁 Recall: {recall:.4f}\")\n",
        "print(\"\\n📊 Confusion Matrix:\")\n",
        "\n",
        "\n",
        "\n"
      ],
      "metadata": {
        "id": "mmaWUk9VGJz2",
        "colab": {
          "base_uri": "https://localhost:8080/"
        },
        "outputId": "1315dc57-f00b-408a-8a2f-ddd1bdd858d9"
      },
      "execution_count": null,
      "outputs": [
        {
          "output_type": "stream",
          "name": "stdout",
          "text": [
            "✅ Accuracy: 0.6880\n",
            "🔁 Recall: 0.7040\n",
            "\n",
            "📊 Confusion Matrix:\n",
            "[[45602 22260]\n",
            " [19994 47561]]\n"
          ]
        },
        {
          "output_type": "stream",
          "name": "stderr",
          "text": [
            "/usr/local/lib/python3.11/dist-packages/sklearn/linear_model/_logistic.py:465: ConvergenceWarning: lbfgs failed to converge (status=1):\n",
            "STOP: TOTAL NO. OF ITERATIONS REACHED LIMIT.\n",
            "\n",
            "Increase the number of iterations (max_iter) or scale the data as shown in:\n",
            "    https://scikit-learn.org/stable/modules/preprocessing.html\n",
            "Please also refer to the documentation for alternative solver options:\n",
            "    https://scikit-learn.org/stable/modules/linear_model.html#logistic-regression\n",
            "  n_iter_i = _check_optimize_result(\n"
          ]
        }
      ]
    },
    {
      "cell_type": "code",
      "source": [
        "from sklearn.ensemble import RandomForestClassifier\n",
        "\n",
        "rf = RandomForestClassifier(class_weight='balanced', random_state=7, n_jobs=-1)\n",
        "rf.fit(X_train, Y_train)\n",
        "\n",
        "y_pred_rf = rf.predict(X_test)\n",
        "\n",
        "print(\"🌲 Random Forest\")\n",
        "print(f\"✅ Accuracy: {accuracy_score(Y_test, y_pred_rf):.4f}\")\n",
        "print(f\"🔁 Recall: {recall_score(Y_test, y_pred_rf):.4f}\")\n",
        "print(confusion_matrix(Y_test, y_pred_rf))\n",
        "print(classification_report(Y_test, y_pred_rf))\n"
      ],
      "metadata": {
        "id": "21MFLMq3KUQq",
        "colab": {
          "base_uri": "https://localhost:8080/"
        },
        "outputId": "26348ff8-1aa1-4be1-c783-8efe5acdff82"
      },
      "execution_count": null,
      "outputs": [
        {
          "output_type": "stream",
          "name": "stdout",
          "text": [
            "🌲 Random Forest\n",
            "✅ Accuracy: 0.8786\n",
            "🔁 Recall: 0.8514\n",
            "[[61466  6396]\n",
            " [10038 57517]]\n",
            "              precision    recall  f1-score   support\n",
            "\n",
            "           0       0.86      0.91      0.88     67862\n",
            "           1       0.90      0.85      0.87     67555\n",
            "\n",
            "    accuracy                           0.88    135417\n",
            "   macro avg       0.88      0.88      0.88    135417\n",
            "weighted avg       0.88      0.88      0.88    135417\n",
            "\n"
          ]
        }
      ]
    },
    {
      "cell_type": "code",
      "source": [
        "from xgboost import XGBClassifier\n",
        "\n",
        "xgb = XGBClassifier(scale_pos_weight=Y_train.value_counts()[0] / Y_train.value_counts()[1],\n",
        "                    use_label_encoder=False, eval_metric='logloss', random_state=7)\n",
        "xgb.fit(X_train, Y_train)\n",
        "\n",
        "y_pred_xgb = xgb.predict(X_test)\n",
        "\n",
        "print(\"\\n⚡ XGBoost\")\n",
        "print(f\"✅ Accuracy: {accuracy_score(Y_test, y_pred_xgb):.4f}\")\n",
        "print(f\"🔁 Recall: {recall_score(Y_test, y_pred_xgb):.4f}\")\n",
        "print(confusion_matrix(Y_test, y_pred_xgb))\n",
        "print(classification_report(Y_test, y_pred_xgb))\n"
      ],
      "metadata": {
        "id": "nlfAzr8aKHT4",
        "colab": {
          "base_uri": "https://localhost:8080/"
        },
        "outputId": "4c586c83-f4b6-4f44-e0b7-3c9d5c6548a0"
      },
      "execution_count": null,
      "outputs": [
        {
          "output_type": "stream",
          "name": "stderr",
          "text": [
            "/usr/local/lib/python3.11/dist-packages/xgboost/training.py:183: UserWarning: [16:47:25] WARNING: /workspace/src/learner.cc:738: \n",
            "Parameters: { \"use_label_encoder\" } are not used.\n",
            "\n",
            "  bst.update(dtrain, iteration=i, fobj=obj)\n"
          ]
        },
        {
          "output_type": "stream",
          "name": "stdout",
          "text": [
            "\n",
            "⚡ XGBoost\n",
            "✅ Accuracy: 0.8891\n",
            "🔁 Recall: 0.8150\n",
            "[[65338  2524]\n",
            " [12498 55057]]\n",
            "              precision    recall  f1-score   support\n",
            "\n",
            "           0       0.84      0.96      0.90     67862\n",
            "           1       0.96      0.81      0.88     67555\n",
            "\n",
            "    accuracy                           0.89    135417\n",
            "   macro avg       0.90      0.89      0.89    135417\n",
            "weighted avg       0.90      0.89      0.89    135417\n",
            "\n"
          ]
        }
      ]
    },
    {
      "cell_type": "code",
      "source": [
        "# Install CatBoost (only needed in notebooks)\n",
        "%pip install catboost\n",
        "\n",
        "# Import CatBoostClassifier\n",
        "from catboost import CatBoostClassifier\n",
        "\n",
        "#Only keep required features\n",
        "selected_features = [\n",
        "    'Age', 'Income', 'LoanAmount', 'CreditScore', 'MonthsEmployed',\n",
        "     'InterestRate', 'LoanTerm', 'DTIRatio'\n",
        "]\n",
        "\n",
        "X = df[selected_features]\n",
        "y = df['Default']\n",
        "\n",
        "# ✅ Train-test split\n",
        "X_train, X_test, Y_train, Y_test = train_test_split(X, y, test_size=0.2, random_state=7)\n",
        "\n",
        "# ✅ Train CatBoost with selected features\n",
        "cat = CatBoostClassifier(auto_class_weights='Balanced', verbose=0, random_state=7)\n",
        "cat.fit(X_train, Y_train)\n",
        "\n",
        "# ✅ Predict\n",
        "y_pred_cat = cat.predict(X_test)\n",
        "\n",
        "# ✅ Evaluation\n",
        "print(\"\\n🐱 CatBoost\")\n",
        "print(f\"✅ Accuracy: {accuracy_score(Y_test, y_pred_cat):.4f}\")\n",
        "print(f\"🔁 Recall: {recall_score(Y_test, y_pred_cat):.4f}\")\n",
        "print(confusion_matrix(Y_test, y_pred_cat))\n",
        "print(classification_report(Y_test, y_pred_cat))"
      ],
      "metadata": {
        "id": "mvrnpOH5GpNn",
        "colab": {
          "base_uri": "https://localhost:8080/"
        },
        "outputId": "df86e905-d00c-4ee5-956e-5a2149da8d3c"
      },
      "execution_count": null,
      "outputs": [
        {
          "output_type": "stream",
          "name": "stdout",
          "text": [
            "Collecting catboost\n",
            "  Downloading catboost-1.2.8-cp311-cp311-manylinux2014_x86_64.whl.metadata (1.2 kB)\n",
            "Requirement already satisfied: graphviz in /usr/local/lib/python3.11/dist-packages (from catboost) (0.21)\n",
            "Requirement already satisfied: matplotlib in /usr/local/lib/python3.11/dist-packages (from catboost) (3.10.0)\n",
            "Requirement already satisfied: numpy<3.0,>=1.16.0 in /usr/local/lib/python3.11/dist-packages (from catboost) (2.0.2)\n",
            "Requirement already satisfied: pandas>=0.24 in /usr/local/lib/python3.11/dist-packages (from catboost) (2.2.2)\n",
            "Requirement already satisfied: scipy in /usr/local/lib/python3.11/dist-packages (from catboost) (1.16.0)\n",
            "Requirement already satisfied: plotly in /usr/local/lib/python3.11/dist-packages (from catboost) (5.24.1)\n",
            "Requirement already satisfied: six in /usr/local/lib/python3.11/dist-packages (from catboost) (1.17.0)\n",
            "Requirement already satisfied: python-dateutil>=2.8.2 in /usr/local/lib/python3.11/dist-packages (from pandas>=0.24->catboost) (2.9.0.post0)\n",
            "Requirement already satisfied: pytz>=2020.1 in /usr/local/lib/python3.11/dist-packages (from pandas>=0.24->catboost) (2025.2)\n",
            "Requirement already satisfied: tzdata>=2022.7 in /usr/local/lib/python3.11/dist-packages (from pandas>=0.24->catboost) (2025.2)\n",
            "Requirement already satisfied: contourpy>=1.0.1 in /usr/local/lib/python3.11/dist-packages (from matplotlib->catboost) (1.3.2)\n",
            "Requirement already satisfied: cycler>=0.10 in /usr/local/lib/python3.11/dist-packages (from matplotlib->catboost) (0.12.1)\n",
            "Requirement already satisfied: fonttools>=4.22.0 in /usr/local/lib/python3.11/dist-packages (from matplotlib->catboost) (4.59.0)\n",
            "Requirement already satisfied: kiwisolver>=1.3.1 in /usr/local/lib/python3.11/dist-packages (from matplotlib->catboost) (1.4.8)\n",
            "Requirement already satisfied: packaging>=20.0 in /usr/local/lib/python3.11/dist-packages (from matplotlib->catboost) (25.0)\n",
            "Requirement already satisfied: pillow>=8 in /usr/local/lib/python3.11/dist-packages (from matplotlib->catboost) (11.3.0)\n",
            "Requirement already satisfied: pyparsing>=2.3.1 in /usr/local/lib/python3.11/dist-packages (from matplotlib->catboost) (3.2.3)\n",
            "Requirement already satisfied: tenacity>=6.2.0 in /usr/local/lib/python3.11/dist-packages (from plotly->catboost) (8.5.0)\n",
            "Downloading catboost-1.2.8-cp311-cp311-manylinux2014_x86_64.whl (99.2 MB)\n",
            "\u001b[2K   \u001b[90m━━━━━━━━━━━━━━━━━━━━━━━━━━━━━━━━━━━━━━━━\u001b[0m \u001b[32m99.2/99.2 MB\u001b[0m \u001b[31m8.6 MB/s\u001b[0m eta \u001b[36m0:00:00\u001b[0m\n",
            "\u001b[?25hInstalling collected packages: catboost\n",
            "Successfully installed catboost-1.2.8\n",
            "\n",
            "🐱 CatBoost\n",
            "✅ Accuracy: 0.7060\n",
            "🔁 Recall: 0.6287\n",
            "[[32382 12847]\n",
            " [ 2169  3672]]\n",
            "              precision    recall  f1-score   support\n",
            "\n",
            "           0       0.94      0.72      0.81     45229\n",
            "           1       0.22      0.63      0.33      5841\n",
            "\n",
            "    accuracy                           0.71     51070\n",
            "   macro avg       0.58      0.67      0.57     51070\n",
            "weighted avg       0.86      0.71      0.76     51070\n",
            "\n"
          ]
        }
      ]
    },
    {
      "cell_type": "code",
      "source": [
        "import joblib\n",
        "\n",
        "# Save the best model\n",
        "joblib.dump(xgb, \"best_XGBoost_model.pkl\")\n",
        "print(\"✅ xgb model saved as best_XGBoost_model.pkl\")\n"
      ],
      "metadata": {
        "id": "p6pewVrgLWz_",
        "colab": {
          "base_uri": "https://localhost:8080/"
        },
        "outputId": "ebf7e251-6e1d-4802-883e-905d9d090f8d"
      },
      "execution_count": null,
      "outputs": [
        {
          "output_type": "stream",
          "name": "stdout",
          "text": [
            "✅ xgb model saved as best_XGBoost_model.pkl\n"
          ]
        }
      ]
    },
    {
      "cell_type": "code",
      "source": [
        "import pandas as pd\n",
        "import numpy as np\n",
        "from xgboost import XGBClassifier\n",
        "\n",
        "\n",
        "# Get predicted class and probability\n",
        "y_pred = xgb.predict(X_test)\n",
        "y_proba = xgb.predict_proba(X_test)[:, 1]  # Probability of class 1\n",
        "\n",
        "# Combine with feature input\n",
        "output_df = pd.DataFrame(X_test, columns=X_train.columns)\n",
        "\n",
        "# Add prediction and probability to DataFrame\n",
        "output_df[\"Prediction\"] = y_pred\n",
        "output_df[\"Probability\"] = y_proba\n",
        "\n",
        "# Save to CSV\n",
        "output_df.to_csv(\"xgboost_predictions_for_tableau.csv\", index=False)\n",
        "\n",
        "print(\"✅ Predictions exported to 'xgboost_predictions_for_tableau.csv'\")\n"
      ],
      "metadata": {
        "id": "BD09LP35MRNw",
        "colab": {
          "base_uri": "https://localhost:8080/"
        },
        "outputId": "b6ab98c4-d1f8-4713-95b6-f02118a5bcd8"
      },
      "execution_count": null,
      "outputs": [
        {
          "output_type": "stream",
          "name": "stdout",
          "text": [
            "✅ Predictions exported to 'xgboost_predictions_for_tableau.csv'\n"
          ]
        }
      ]
    },
    {
      "cell_type": "code",
      "source": [
        "import streamlit as st\n",
        "import pandas as pd\n",
        "import numpy as np\n",
        "import joblib\n",
        "\n",
        "# Set Streamlit page configuration\n",
        "st.set_page_config(page_title=\"Loan Risk Predictor\", page_icon=\"🏦\")\n",
        "\n",
        "# Load trained XGBoost model\n",
        "model = joblib.load(\"best_xgboost_model.pkl\")  # Replace with your actual model path\n",
        "\n",
        "# App title\n",
        "st.title(\"🏦 Loan Default Risk Predictor\")\n",
        "st.markdown(\"Use this tool to assess the risk of default before approving a loan.\")\n",
        "\n",
        "# Input form\n",
        "st.markdown(\"### 📋 Enter Applicant Details\")\n",
        "\n",
        "age = st.slider(\"Age\", 18, 75, 30)\n",
        "income = st.number_input(\"Monthly Income (₹)\", min_value=0, value=30000)\n",
        "loan_amount = st.number_input(\"Loan Amount (₹)\", min_value=1000, value=100000)\n",
        "credit_score = st.slider(\"Credit Score\", 300, 850, 650)\n",
        "months_employed = st.slider(\"Months Employed\", 0, 600, 36)\n",
        "interest_rate = st.slider(\"Interest Rate (%)\", 0.0, 30.0, 12.0)\n",
        "loan_term = st.selectbox(\"Loan Term (months)\", [12, 24, 36, 48, 60])\n",
        "dti_ratio = st.slider(\"DTI Ratio (%)\", 0.0, 100.0, 35.0)\n",
        "\n",
        "# Prediction trigger\n",
        "if st.button(\"Check Loan Risk\"):\n",
        "    # Create input DataFrame\n",
        "    input_data = pd.DataFrame([{\n",
        "        'Age': age,\n",
        "        'Income': income,\n",
        "        'LoanAmount': loan_amount,\n",
        "        'CreditScore': credit_score,\n",
        "        'MonthsEmployed': months_employed,\n",
        "        'InterestRate': interest_rate,\n",
        "        'LoanTerm': loan_term,\n",
        "        'DTIRatio': dti_ratio\n",
        "    }])\n",
        "\n",
        "    # Get prediction probability\n",
        "    prob = model.predict_proba(input_data)[0][1]\n",
        "\n",
        "    # Custom threshold\n",
        "    threshold = 0.35\n",
        "    prediction = 1 if prob >= threshold else 0\n",
        "\n",
        "    # Result output\n",
        "    st.markdown(\"### 🔍 Prediction Result\")\n",
        "    if prediction == 1:\n",
        "        st.error(f\"🚫 **Risky**: {prob:.2%} chance of default. Loan should be avoided.\")\n",
        "    else:\n",
        "        st.success(f\"✅ **Safe**: Only {prob:.2%} chance of default. Loan may be granted.\")\n",
        "\n",
        "    # Model output\n",
        "    st.markdown(\"### 📊 Model Output\")\n",
        "    st.write(f\"Prediction Class (threshold @ {threshold:.2f}): `{prediction}` (1 = Risky, 0 = Safe)\")\n",
        "    st.write(f\"Probability of Default: `{prob:.4f}`\")\n"
      ],
      "metadata": {
        "id": "4PTfgxTNMma7",
        "colab": {
          "base_uri": "https://localhost:8080/",
          "height": 397
        },
        "outputId": "13a96e7a-b528-4c0b-f090-be3f98765f04"
      },
      "execution_count": null,
      "outputs": [
        {
          "output_type": "error",
          "ename": "ModuleNotFoundError",
          "evalue": "No module named 'streamlit'",
          "traceback": [
            "\u001b[0;31m---------------------------------------------------------------------------\u001b[0m",
            "\u001b[0;31mModuleNotFoundError\u001b[0m                       Traceback (most recent call last)",
            "\u001b[0;32m/tmp/ipython-input-2144889377.py\u001b[0m in \u001b[0;36m<cell line: 0>\u001b[0;34m()\u001b[0m\n\u001b[0;32m----> 1\u001b[0;31m \u001b[0;32mimport\u001b[0m \u001b[0mstreamlit\u001b[0m \u001b[0;32mas\u001b[0m \u001b[0mst\u001b[0m\u001b[0;34m\u001b[0m\u001b[0;34m\u001b[0m\u001b[0m\n\u001b[0m\u001b[1;32m      2\u001b[0m \u001b[0;32mimport\u001b[0m \u001b[0mpandas\u001b[0m \u001b[0;32mas\u001b[0m \u001b[0mpd\u001b[0m\u001b[0;34m\u001b[0m\u001b[0;34m\u001b[0m\u001b[0m\n\u001b[1;32m      3\u001b[0m \u001b[0;32mimport\u001b[0m \u001b[0mnumpy\u001b[0m \u001b[0;32mas\u001b[0m \u001b[0mnp\u001b[0m\u001b[0;34m\u001b[0m\u001b[0;34m\u001b[0m\u001b[0m\n\u001b[1;32m      4\u001b[0m \u001b[0;32mimport\u001b[0m \u001b[0mjoblib\u001b[0m\u001b[0;34m\u001b[0m\u001b[0;34m\u001b[0m\u001b[0m\n\u001b[1;32m      5\u001b[0m \u001b[0;34m\u001b[0m\u001b[0m\n",
            "\u001b[0;31mModuleNotFoundError\u001b[0m: No module named 'streamlit'",
            "",
            "\u001b[0;31m---------------------------------------------------------------------------\u001b[0;32m\nNOTE: If your import is failing due to a missing package, you can\nmanually install dependencies using either !pip or !apt.\n\nTo view examples of installing some common dependencies, click the\n\"Open Examples\" button below.\n\u001b[0;31m---------------------------------------------------------------------------\u001b[0m\n"
          ],
          "errorDetails": {
            "actions": [
              {
                "action": "open_url",
                "actionText": "Open Examples",
                "url": "/notebooks/snippets/importing_libraries.ipynb"
              }
            ]
          }
        }
      ]
    }
  ]
}