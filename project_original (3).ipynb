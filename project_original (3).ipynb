{
  "nbformat": 4,
  "nbformat_minor": 0,
  "metadata": {
    "colab": {
      "provenance": []
    },
    "kernelspec": {
      "name": "python3",
      "display_name": "Python 3"
    },
    "language_info": {
      "name": "python"
    }
  },
  "cells": [
    {
      "cell_type": "code",
      "execution_count": 1,
      "metadata": {
        "colab": {
          "base_uri": "https://localhost:8080/"
        },
        "id": "DDRdSiyY_2VY",
        "outputId": "77f6414f-6525-4b28-a18b-297d339184d8"
      },
      "outputs": [
        {
          "output_type": "stream",
          "name": "stdout",
          "text": [
            "       LoanID  Age  Income  LoanAmount  CreditScore  MonthsEmployed  \\\n",
            "0  LN00000001   59   46927       93462          681             256   \n",
            "1  LN00000002   49  136619       21763          670             300   \n",
            "2  LN00000003   35   27684      123242          320              25   \n",
            "3  LN00000004   63  195558      113863          328             339   \n",
            "4  LN00000005   28   60172       91297          769              29   \n",
            "\n",
            "   NumCreditLines  InterestRate  LoanTerm  DTIRatio  ... FamilySize  \\\n",
            "0              10         13.59        48      0.30  ...          5   \n",
            "1               7         20.71        24      0.24  ...          8   \n",
            "2              12         21.03        12      0.82  ...          6   \n",
            "3               8          3.54        60      0.81  ...          9   \n",
            "4              10         13.30        60      0.63  ...          8   \n",
            "\n",
            "  DependentsCount PropertyType EmployerIndustry VehicleOwned  \\\n",
            "0               1    Apartment       Healthcare           No   \n",
            "1               2        Villa           Others           No   \n",
            "2               0        Villa       Healthcare           No   \n",
            "3               0        Villa        Education           No   \n",
            "4               3        Villa          Finance          Yes   \n",
            "\n",
            "  HomeOwnershipDuration CurrentDelinquencies TotalAccounts RiskScore  Default  \n",
            "0                     7                    4            15  0.309984        1  \n",
            "1                     9                    0            15  0.107463        0  \n",
            "2                    39                    1             3  0.698905        1  \n",
            "3                    14                    1             2  0.321424        0  \n",
            "4                    25                    1             6  0.299038        0  \n",
            "\n",
            "[5 rows x 40 columns]\n"
          ]
        }
      ],
      "source": [
        "\n",
        "import pandas as pd\n",
        "df=pd.read_csv(\"/content/Synthetic_Loan_Default_Dataset.csv\")\n",
        "print(df.head())"
      ]
    },
    {
      "cell_type": "code",
      "source": [
        "df.shape"
      ],
      "metadata": {
        "colab": {
          "base_uri": "https://localhost:8080/"
        },
        "id": "JTb2kMWOEwKT",
        "outputId": "e194242a-f59a-438e-aff5-09d0e935169d"
      },
      "execution_count": 2,
      "outputs": [
        {
          "output_type": "execute_result",
          "data": {
            "text/plain": [
              "(1000000, 40)"
            ]
          },
          "metadata": {},
          "execution_count": 2
        }
      ]
    },
    {
      "cell_type": "code",
      "source": [
        "df.columns"
      ],
      "metadata": {
        "colab": {
          "base_uri": "https://localhost:8080/"
        },
        "id": "rcCnWVKFEuQJ",
        "outputId": "cda24559-f731-4ce2-c657-a86a474bf49c"
      },
      "execution_count": 3,
      "outputs": [
        {
          "output_type": "execute_result",
          "data": {
            "text/plain": [
              "Index(['LoanID', 'Age', 'Income', 'LoanAmount', 'CreditScore',\n",
              "       'MonthsEmployed', 'NumCreditLines', 'InterestRate', 'LoanTerm',\n",
              "       'DTIRatio', 'Education', 'EmploymentType', 'MaritalStatus',\n",
              "       'HasMortgage', 'HasDependents', 'LoanPurpose', 'HasCoSigner',\n",
              "       'ResidenceType', 'BankAccountType', 'PrevDefaults', 'MissedPayments',\n",
              "       'LoanApplicationChannel', 'Region', 'MobileVerified', 'EmailVerified',\n",
              "       'AccountAgeMonths', 'IsGovernmentEmployee', 'HasCreditCard',\n",
              "       'CreditCardLimit', 'CreditUtilization', 'FamilySize', 'DependentsCount',\n",
              "       'PropertyType', 'EmployerIndustry', 'VehicleOwned',\n",
              "       'HomeOwnershipDuration', 'CurrentDelinquencies', 'TotalAccounts',\n",
              "       'RiskScore', 'Default'],\n",
              "      dtype='object')"
            ]
          },
          "metadata": {},
          "execution_count": 3
        }
      ]
    },
    {
      "cell_type": "code",
      "source": [
        "df.EmploymentType.unique()"
      ],
      "metadata": {
        "colab": {
          "base_uri": "https://localhost:8080/"
        },
        "id": "8uB0pFuKEpUK",
        "outputId": "c2ae9f3e-020f-441d-df3a-fa5195b303e6"
      },
      "execution_count": 4,
      "outputs": [
        {
          "output_type": "execute_result",
          "data": {
            "text/plain": [
              "array(['Part-time', 'Full-time', 'Unemployed', 'Self-employed'],\n",
              "      dtype=object)"
            ]
          },
          "metadata": {},
          "execution_count": 4
        }
      ]
    },
    {
      "cell_type": "code",
      "source": [
        "!python --version\n",
        "\n",
        "!pip install imbalanced-learn\n"
      ],
      "metadata": {
        "colab": {
          "base_uri": "https://localhost:8080/"
        },
        "id": "1p8Uzo-jEkhw",
        "outputId": "b597b44d-988d-4033-eaaa-142b2b26740e"
      },
      "execution_count": 5,
      "outputs": [
        {
          "output_type": "stream",
          "name": "stdout",
          "text": [
            "Python 3.11.13\n",
            "Requirement already satisfied: imbalanced-learn in /usr/local/lib/python3.11/dist-packages (0.13.0)\n",
            "Requirement already satisfied: numpy<3,>=1.24.3 in /usr/local/lib/python3.11/dist-packages (from imbalanced-learn) (2.0.2)\n",
            "Requirement already satisfied: scipy<2,>=1.10.1 in /usr/local/lib/python3.11/dist-packages (from imbalanced-learn) (1.16.0)\n",
            "Requirement already satisfied: scikit-learn<2,>=1.3.2 in /usr/local/lib/python3.11/dist-packages (from imbalanced-learn) (1.6.1)\n",
            "Requirement already satisfied: sklearn-compat<1,>=0.1 in /usr/local/lib/python3.11/dist-packages (from imbalanced-learn) (0.1.3)\n",
            "Requirement already satisfied: joblib<2,>=1.1.1 in /usr/local/lib/python3.11/dist-packages (from imbalanced-learn) (1.5.1)\n",
            "Requirement already satisfied: threadpoolctl<4,>=2.0.0 in /usr/local/lib/python3.11/dist-packages (from imbalanced-learn) (3.6.0)\n"
          ]
        }
      ]
    },
    {
      "cell_type": "code",
      "source": [
        "df['Default'].value_counts(normalize=True)"
      ],
      "metadata": {
        "colab": {
          "base_uri": "https://localhost:8080/",
          "height": 178
        },
        "id": "tnMJpg5QFDZs",
        "outputId": "60a05225-1081-48f2-e238-2c1857604da6"
      },
      "execution_count": 6,
      "outputs": [
        {
          "output_type": "execute_result",
          "data": {
            "text/plain": [
              "Default\n",
              "0    0.917633\n",
              "1    0.082367\n",
              "Name: proportion, dtype: float64"
            ],
            "text/html": [
              "<div>\n",
              "<style scoped>\n",
              "    .dataframe tbody tr th:only-of-type {\n",
              "        vertical-align: middle;\n",
              "    }\n",
              "\n",
              "    .dataframe tbody tr th {\n",
              "        vertical-align: top;\n",
              "    }\n",
              "\n",
              "    .dataframe thead th {\n",
              "        text-align: right;\n",
              "    }\n",
              "</style>\n",
              "<table border=\"1\" class=\"dataframe\">\n",
              "  <thead>\n",
              "    <tr style=\"text-align: right;\">\n",
              "      <th></th>\n",
              "      <th>proportion</th>\n",
              "    </tr>\n",
              "    <tr>\n",
              "      <th>Default</th>\n",
              "      <th></th>\n",
              "    </tr>\n",
              "  </thead>\n",
              "  <tbody>\n",
              "    <tr>\n",
              "      <th>0</th>\n",
              "      <td>0.917633</td>\n",
              "    </tr>\n",
              "    <tr>\n",
              "      <th>1</th>\n",
              "      <td>0.082367</td>\n",
              "    </tr>\n",
              "  </tbody>\n",
              "</table>\n",
              "</div><br><label><b>dtype:</b> float64</label>"
            ]
          },
          "metadata": {},
          "execution_count": 6
        }
      ]
    },
    {
      "cell_type": "code",
      "source": [
        "X= df.drop(columns=['Default'])\n",
        "Y= df['Default']\n"
      ],
      "metadata": {
        "id": "x19gteoKFNdA"
      },
      "execution_count": 7,
      "outputs": []
    },
    {
      "cell_type": "code",
      "source": [
        "from imblearn.over_sampling import SMOTE\n",
        "\n",
        "# Use only numeric features (from your earlier list)\n",
        "selected_features = [\n",
        "    'Age', 'Income', 'LoanAmount', 'CreditScore', 'MonthsEmployed',\n",
        "     'InterestRate', 'LoanTerm', 'DTIRatio'\n",
        "]\n",
        "\n",
        "X = df[selected_features]\n",
        "y = df['Default']\n",
        "\n",
        "# Apply SMOTE\n",
        "smote = SMOTE(random_state=42)\n",
        "X_resampled, y_resampled = smote.fit_resample(X, y)\n",
        "\n",
        "print(f\"✅ After SMOTE: {X_resampled.shape}, Class balance: {y_resampled.value_counts().to_dict()}\")\n"
      ],
      "metadata": {
        "id": "xC6lr6IGFQIe",
        "colab": {
          "base_uri": "https://localhost:8080/"
        },
        "outputId": "fdcf2002-fc05-49d4-f1f9-f6214ece0f71"
      },
      "execution_count": 8,
      "outputs": [
        {
          "output_type": "stream",
          "name": "stdout",
          "text": [
            "✅ After SMOTE: (1835266, 8), Class balance: {1: 917633, 0: 917633}\n"
          ]
        }
      ]
    },
    {
      "cell_type": "code",
      "source": [
        "# Step 3: Combine resampled features and target variable into a new DataFrame\n",
        "resampled_df = pd.DataFrame(X_resampled, columns=X.columns)\n",
        "resampled_df[\"Default\"] = y_resampled\n",
        "\n",
        "resampled_df.to_csv('Processed_data.csv', index=False)\n",
        "\n",
        "resampled_df.head()\n",
        "\n",
        "resampled_df['Default'].value_counts(normalize=True)"
      ],
      "metadata": {
        "id": "ux2vGNz3FTY9",
        "colab": {
          "base_uri": "https://localhost:8080/",
          "height": 178
        },
        "outputId": "72bf8c59-e361-4af0-85e9-3abba8cb20c6"
      },
      "execution_count": 9,
      "outputs": [
        {
          "output_type": "execute_result",
          "data": {
            "text/plain": [
              "Default\n",
              "1    0.5\n",
              "0    0.5\n",
              "Name: proportion, dtype: float64"
            ],
            "text/html": [
              "<div>\n",
              "<style scoped>\n",
              "    .dataframe tbody tr th:only-of-type {\n",
              "        vertical-align: middle;\n",
              "    }\n",
              "\n",
              "    .dataframe tbody tr th {\n",
              "        vertical-align: top;\n",
              "    }\n",
              "\n",
              "    .dataframe thead th {\n",
              "        text-align: right;\n",
              "    }\n",
              "</style>\n",
              "<table border=\"1\" class=\"dataframe\">\n",
              "  <thead>\n",
              "    <tr style=\"text-align: right;\">\n",
              "      <th></th>\n",
              "      <th>proportion</th>\n",
              "    </tr>\n",
              "    <tr>\n",
              "      <th>Default</th>\n",
              "      <th></th>\n",
              "    </tr>\n",
              "  </thead>\n",
              "  <tbody>\n",
              "    <tr>\n",
              "      <th>1</th>\n",
              "      <td>0.5</td>\n",
              "    </tr>\n",
              "    <tr>\n",
              "      <th>0</th>\n",
              "      <td>0.5</td>\n",
              "    </tr>\n",
              "  </tbody>\n",
              "</table>\n",
              "</div><br><label><b>dtype:</b> float64</label>"
            ]
          },
          "metadata": {},
          "execution_count": 9
        }
      ]
    },
    {
      "cell_type": "code",
      "source": [
        "\"\"\"# **Feature Reduction**\"\"\"\n",
        "\n",
        "X = resampled_df[['Age', 'Income', 'LoanAmount', 'CreditScore','MonthsEmployed','InterestRate','DTIRatio','LoanTerm']]\n",
        "Y= resampled_df['Default']\n",
        "\n",
        "X.shape,Y.shape"
      ],
      "metadata": {
        "id": "yWFiXR1AFcnA",
        "colab": {
          "base_uri": "https://localhost:8080/"
        },
        "outputId": "95308e8e-6fda-4a99-84ed-7fa0c1116c3e"
      },
      "execution_count": 10,
      "outputs": [
        {
          "output_type": "execute_result",
          "data": {
            "text/plain": [
              "((1835266, 8), (1835266,))"
            ]
          },
          "metadata": {},
          "execution_count": 10
        }
      ]
    },
    {
      "cell_type": "code",
      "source": [
        "# Step 3: Combine resampled features and target variable into a new DataFrame\n",
        "final_df = pd.DataFrame(X, columns=X.columns)\n",
        "final_df[\"Default\"] = Y\n",
        "\n",
        "final_df.head()\n",
        "\n",
        "final_df.shape\n",
        "\n",
        "final_df.to_csv('Selected_features.csv', index=False)\n"
      ],
      "metadata": {
        "id": "2ho5xF6eFgGM"
      },
      "execution_count": 11,
      "outputs": []
    },
    {
      "cell_type": "code",
      "source": [
        "df.shape"
      ],
      "metadata": {
        "id": "feWsmKMaFqL3",
        "colab": {
          "base_uri": "https://localhost:8080/"
        },
        "outputId": "f3f0bd3f-230f-4461-c8c4-74a3496ee2e9"
      },
      "execution_count": 12,
      "outputs": [
        {
          "output_type": "execute_result",
          "data": {
            "text/plain": [
              "(1000000, 40)"
            ]
          },
          "metadata": {},
          "execution_count": 12
        }
      ]
    },
    {
      "cell_type": "code",
      "source": [
        "df.isnull().sum()"
      ],
      "metadata": {
        "id": "22cV1WYnFq2K",
        "colab": {
          "base_uri": "https://localhost:8080/",
          "height": 1000
        },
        "outputId": "8bcafe01-3503-4164-cb5d-e48c6fd2862f"
      },
      "execution_count": 13,
      "outputs": [
        {
          "output_type": "execute_result",
          "data": {
            "text/plain": [
              "LoanID                         0\n",
              "Age                            0\n",
              "Income                         0\n",
              "LoanAmount                     0\n",
              "CreditScore                    0\n",
              "MonthsEmployed                 0\n",
              "NumCreditLines                 0\n",
              "InterestRate                   0\n",
              "LoanTerm                       0\n",
              "DTIRatio                       0\n",
              "Education                      0\n",
              "EmploymentType                 0\n",
              "MaritalStatus                  0\n",
              "HasMortgage                    0\n",
              "HasDependents                  0\n",
              "LoanPurpose                    0\n",
              "HasCoSigner                    0\n",
              "ResidenceType                  0\n",
              "BankAccountType           333333\n",
              "PrevDefaults                   0\n",
              "MissedPayments                 0\n",
              "LoanApplicationChannel         0\n",
              "Region                         0\n",
              "MobileVerified                 0\n",
              "EmailVerified                  0\n",
              "AccountAgeMonths               0\n",
              "IsGovernmentEmployee           0\n",
              "HasCreditCard                  0\n",
              "CreditCardLimit                0\n",
              "CreditUtilization              0\n",
              "FamilySize                     0\n",
              "DependentsCount                0\n",
              "PropertyType                   0\n",
              "EmployerIndustry               0\n",
              "VehicleOwned                   0\n",
              "HomeOwnershipDuration          0\n",
              "CurrentDelinquencies           0\n",
              "TotalAccounts                  0\n",
              "RiskScore                      0\n",
              "Default                        0\n",
              "dtype: int64"
            ],
            "text/html": [
              "<div>\n",
              "<style scoped>\n",
              "    .dataframe tbody tr th:only-of-type {\n",
              "        vertical-align: middle;\n",
              "    }\n",
              "\n",
              "    .dataframe tbody tr th {\n",
              "        vertical-align: top;\n",
              "    }\n",
              "\n",
              "    .dataframe thead th {\n",
              "        text-align: right;\n",
              "    }\n",
              "</style>\n",
              "<table border=\"1\" class=\"dataframe\">\n",
              "  <thead>\n",
              "    <tr style=\"text-align: right;\">\n",
              "      <th></th>\n",
              "      <th>0</th>\n",
              "    </tr>\n",
              "  </thead>\n",
              "  <tbody>\n",
              "    <tr>\n",
              "      <th>LoanID</th>\n",
              "      <td>0</td>\n",
              "    </tr>\n",
              "    <tr>\n",
              "      <th>Age</th>\n",
              "      <td>0</td>\n",
              "    </tr>\n",
              "    <tr>\n",
              "      <th>Income</th>\n",
              "      <td>0</td>\n",
              "    </tr>\n",
              "    <tr>\n",
              "      <th>LoanAmount</th>\n",
              "      <td>0</td>\n",
              "    </tr>\n",
              "    <tr>\n",
              "      <th>CreditScore</th>\n",
              "      <td>0</td>\n",
              "    </tr>\n",
              "    <tr>\n",
              "      <th>MonthsEmployed</th>\n",
              "      <td>0</td>\n",
              "    </tr>\n",
              "    <tr>\n",
              "      <th>NumCreditLines</th>\n",
              "      <td>0</td>\n",
              "    </tr>\n",
              "    <tr>\n",
              "      <th>InterestRate</th>\n",
              "      <td>0</td>\n",
              "    </tr>\n",
              "    <tr>\n",
              "      <th>LoanTerm</th>\n",
              "      <td>0</td>\n",
              "    </tr>\n",
              "    <tr>\n",
              "      <th>DTIRatio</th>\n",
              "      <td>0</td>\n",
              "    </tr>\n",
              "    <tr>\n",
              "      <th>Education</th>\n",
              "      <td>0</td>\n",
              "    </tr>\n",
              "    <tr>\n",
              "      <th>EmploymentType</th>\n",
              "      <td>0</td>\n",
              "    </tr>\n",
              "    <tr>\n",
              "      <th>MaritalStatus</th>\n",
              "      <td>0</td>\n",
              "    </tr>\n",
              "    <tr>\n",
              "      <th>HasMortgage</th>\n",
              "      <td>0</td>\n",
              "    </tr>\n",
              "    <tr>\n",
              "      <th>HasDependents</th>\n",
              "      <td>0</td>\n",
              "    </tr>\n",
              "    <tr>\n",
              "      <th>LoanPurpose</th>\n",
              "      <td>0</td>\n",
              "    </tr>\n",
              "    <tr>\n",
              "      <th>HasCoSigner</th>\n",
              "      <td>0</td>\n",
              "    </tr>\n",
              "    <tr>\n",
              "      <th>ResidenceType</th>\n",
              "      <td>0</td>\n",
              "    </tr>\n",
              "    <tr>\n",
              "      <th>BankAccountType</th>\n",
              "      <td>333333</td>\n",
              "    </tr>\n",
              "    <tr>\n",
              "      <th>PrevDefaults</th>\n",
              "      <td>0</td>\n",
              "    </tr>\n",
              "    <tr>\n",
              "      <th>MissedPayments</th>\n",
              "      <td>0</td>\n",
              "    </tr>\n",
              "    <tr>\n",
              "      <th>LoanApplicationChannel</th>\n",
              "      <td>0</td>\n",
              "    </tr>\n",
              "    <tr>\n",
              "      <th>Region</th>\n",
              "      <td>0</td>\n",
              "    </tr>\n",
              "    <tr>\n",
              "      <th>MobileVerified</th>\n",
              "      <td>0</td>\n",
              "    </tr>\n",
              "    <tr>\n",
              "      <th>EmailVerified</th>\n",
              "      <td>0</td>\n",
              "    </tr>\n",
              "    <tr>\n",
              "      <th>AccountAgeMonths</th>\n",
              "      <td>0</td>\n",
              "    </tr>\n",
              "    <tr>\n",
              "      <th>IsGovernmentEmployee</th>\n",
              "      <td>0</td>\n",
              "    </tr>\n",
              "    <tr>\n",
              "      <th>HasCreditCard</th>\n",
              "      <td>0</td>\n",
              "    </tr>\n",
              "    <tr>\n",
              "      <th>CreditCardLimit</th>\n",
              "      <td>0</td>\n",
              "    </tr>\n",
              "    <tr>\n",
              "      <th>CreditUtilization</th>\n",
              "      <td>0</td>\n",
              "    </tr>\n",
              "    <tr>\n",
              "      <th>FamilySize</th>\n",
              "      <td>0</td>\n",
              "    </tr>\n",
              "    <tr>\n",
              "      <th>DependentsCount</th>\n",
              "      <td>0</td>\n",
              "    </tr>\n",
              "    <tr>\n",
              "      <th>PropertyType</th>\n",
              "      <td>0</td>\n",
              "    </tr>\n",
              "    <tr>\n",
              "      <th>EmployerIndustry</th>\n",
              "      <td>0</td>\n",
              "    </tr>\n",
              "    <tr>\n",
              "      <th>VehicleOwned</th>\n",
              "      <td>0</td>\n",
              "    </tr>\n",
              "    <tr>\n",
              "      <th>HomeOwnershipDuration</th>\n",
              "      <td>0</td>\n",
              "    </tr>\n",
              "    <tr>\n",
              "      <th>CurrentDelinquencies</th>\n",
              "      <td>0</td>\n",
              "    </tr>\n",
              "    <tr>\n",
              "      <th>TotalAccounts</th>\n",
              "      <td>0</td>\n",
              "    </tr>\n",
              "    <tr>\n",
              "      <th>RiskScore</th>\n",
              "      <td>0</td>\n",
              "    </tr>\n",
              "    <tr>\n",
              "      <th>Default</th>\n",
              "      <td>0</td>\n",
              "    </tr>\n",
              "  </tbody>\n",
              "</table>\n",
              "</div><br><label><b>dtype:</b> int64</label>"
            ]
          },
          "metadata": {},
          "execution_count": 13
        }
      ]
    },
    {
      "cell_type": "code",
      "source": [
        "\"\"\"# TrainTest Split\"\"\"\n",
        "\n",
        "from sklearn.model_selection import train_test_split\n",
        "X_train, X_test, y_train, y_test = train_test_split(X, Y, test_size=0.2, random_state=7,stratify = Y)\n",
        "\n",
        "X_train.head()\n",
        "\n",
        "X_train.isnull().sum()\n"
      ],
      "metadata": {
        "id": "SbaS9nFKFze2",
        "colab": {
          "base_uri": "https://localhost:8080/",
          "height": 335
        },
        "outputId": "7651f5df-c489-41c1-b972-653b1b60deb7"
      },
      "execution_count": 14,
      "outputs": [
        {
          "output_type": "execute_result",
          "data": {
            "text/plain": [
              "Age               0\n",
              "Income            0\n",
              "LoanAmount        0\n",
              "CreditScore       0\n",
              "MonthsEmployed    0\n",
              "InterestRate      0\n",
              "DTIRatio          0\n",
              "LoanTerm          0\n",
              "dtype: int64"
            ],
            "text/html": [
              "<div>\n",
              "<style scoped>\n",
              "    .dataframe tbody tr th:only-of-type {\n",
              "        vertical-align: middle;\n",
              "    }\n",
              "\n",
              "    .dataframe tbody tr th {\n",
              "        vertical-align: top;\n",
              "    }\n",
              "\n",
              "    .dataframe thead th {\n",
              "        text-align: right;\n",
              "    }\n",
              "</style>\n",
              "<table border=\"1\" class=\"dataframe\">\n",
              "  <thead>\n",
              "    <tr style=\"text-align: right;\">\n",
              "      <th></th>\n",
              "      <th>0</th>\n",
              "    </tr>\n",
              "  </thead>\n",
              "  <tbody>\n",
              "    <tr>\n",
              "      <th>Age</th>\n",
              "      <td>0</td>\n",
              "    </tr>\n",
              "    <tr>\n",
              "      <th>Income</th>\n",
              "      <td>0</td>\n",
              "    </tr>\n",
              "    <tr>\n",
              "      <th>LoanAmount</th>\n",
              "      <td>0</td>\n",
              "    </tr>\n",
              "    <tr>\n",
              "      <th>CreditScore</th>\n",
              "      <td>0</td>\n",
              "    </tr>\n",
              "    <tr>\n",
              "      <th>MonthsEmployed</th>\n",
              "      <td>0</td>\n",
              "    </tr>\n",
              "    <tr>\n",
              "      <th>InterestRate</th>\n",
              "      <td>0</td>\n",
              "    </tr>\n",
              "    <tr>\n",
              "      <th>DTIRatio</th>\n",
              "      <td>0</td>\n",
              "    </tr>\n",
              "    <tr>\n",
              "      <th>LoanTerm</th>\n",
              "      <td>0</td>\n",
              "    </tr>\n",
              "  </tbody>\n",
              "</table>\n",
              "</div><br><label><b>dtype:</b> int64</label>"
            ]
          },
          "metadata": {},
          "execution_count": 14
        }
      ]
    },
    {
      "cell_type": "code",
      "source": [
        "\"\"\"# **Getting Feature importance**\n",
        "\n",
        "# APPLY DECISION TREE\n",
        "\"\"\"\n",
        "\n",
        "from sklearn.tree import DecisionTreeClassifier\n",
        "\n",
        "dt = DecisionTreeClassifier(random_state = 7)\n",
        "dt.fit(X_train,y_train)\n",
        "\n",
        "# importance of all features\n",
        "sorted(zip(dt.feature_importances_,X_train.columns),reverse = True)\n",
        "\n",
        "# 2) mean importance take col > mean import\n",
        "mean_imp = sum(dt.feature_importances_)/len(dt.feature_importances_)\n",
        "X_train.columns[dt.feature_importances_ > mean_imp ]\n",
        "\n",
        "# 3) Select top 5\n",
        "sorted(zip(dt.feature_importances_,X_train.columns),reverse = True)[:5]"
      ],
      "metadata": {
        "id": "6lw_TfrOF2CC",
        "colab": {
          "base_uri": "https://localhost:8080/"
        },
        "outputId": "9c46b576-06b5-485c-bf80-921cee6db140"
      },
      "execution_count": 15,
      "outputs": [
        {
          "output_type": "execute_result",
          "data": {
            "text/plain": [
              "[(np.float64(0.4198415667020342), 'LoanTerm'),\n",
              " (np.float64(0.21036025448372597), 'Income'),\n",
              " (np.float64(0.13796906429919234), 'DTIRatio'),\n",
              " (np.float64(0.10079431364766654), 'LoanAmount'),\n",
              " (np.float64(0.03736492438029109), 'InterestRate')]"
            ]
          },
          "metadata": {},
          "execution_count": 15
        }
      ]
    },
    {
      "cell_type": "code",
      "source": [
        "\"\"\"# APPLY RFE\"\"\"\n",
        "\n",
        "from sklearn.feature_selection import RFE\n",
        "\n",
        "rfe = RFE(dt)\n",
        "rfe.fit(X_train,y_train)\n",
        "\n",
        "for imp,col in sorted(zip(rfe.ranking_,X_train.columns)):\n",
        "    print(f\"{col} = {imp}\")\n",
        "\n",
        "#2) important column rank = 1\n",
        "\n",
        "print(\"Column Count = \",len(X_train.columns[rfe.ranking_ == 1  ]))\n",
        "X_train.columns[rfe.ranking_ == 1 ]"
      ],
      "metadata": {
        "id": "iGmkL5thF9AD",
        "colab": {
          "base_uri": "https://localhost:8080/"
        },
        "outputId": "65ef84db-deaf-4931-ff88-5659ab141c35"
      },
      "execution_count": 16,
      "outputs": [
        {
          "output_type": "stream",
          "name": "stdout",
          "text": [
            "DTIRatio = 1\n",
            "Income = 1\n",
            "LoanAmount = 1\n",
            "LoanTerm = 1\n",
            "InterestRate = 2\n",
            "CreditScore = 3\n",
            "MonthsEmployed = 4\n",
            "Age = 5\n",
            "Column Count =  4\n"
          ]
        },
        {
          "output_type": "execute_result",
          "data": {
            "text/plain": [
              "Index(['Income', 'LoanAmount', 'DTIRatio', 'LoanTerm'], dtype='object')"
            ]
          },
          "metadata": {},
          "execution_count": 16
        }
      ]
    },
    {
      "cell_type": "code",
      "source": [
        "import pandas as pd\n",
        "import seaborn as sns\n",
        "import matplotlib.pyplot as plt\n",
        "\n",
        "# The error was caused because the original `df` still contained\n",
        "# non-numeric columns. Using the one-hot encoded dataframe `X_encoded`\n",
        "# which contains only numeric data.\n",
        "X_for_corr = resampled_df.copy()\n",
        "# X_for_corr['Default'] = y_resampled # This line is not needed as resampled_df already has the 'Default' column\n",
        "\n",
        "\n",
        "plt.figure(figsize=(8, 6))\n",
        "sns.boxplot(x=X_for_corr[\"Default\"], y=X_for_corr[\"LoanAmount\"])\n",
        "plt.title(\"Box Plot of Loan Amount by Class\")\n",
        "plt.xlabel(\"Class (0 = No Default, 1 = Default)\")\n",
        "plt.ylabel(\"Loan Amount\")\n",
        "plt.show()\n",
        "\n",
        "\"\"\"# Correlation\"\"\"\n",
        "\n",
        "# Compute correlation matrix\n",
        "correlation_matrix = X_for_corr.corr()\n",
        "\n",
        "# Print correlation matrix\n",
        "print(correlation_matrix)\n",
        "\n",
        "\"\"\"# HeatMap\"\"\"\n",
        "\n",
        "import seaborn as sns\n",
        "import matplotlib.pyplot as plt\n",
        "\n",
        "# Create a heatmap\n",
        "plt.figure(figsize=(12, 10))\n",
        "sns.heatmap(correlation_matrix, annot=False, cmap=\"coolwarm\")\n",
        "\n",
        "# Show the plot\n",
        "plt.title(\"Correlation Heatmap\")\n",
        "plt.show()\n",
        "\n",
        "X = X_resampled\n",
        "Y= y_resampled\n",
        "\n",
        "from sklearn.model_selection import train_test_split\n",
        "X_train,X_test,Y_train,Y_test = train_test_split(X,Y,test_size=0.3,random_state=7)\n",
        "\n",
        "X_train.shape,X_test.shape,Y_train.shape,Y_test.shape"
      ],
      "metadata": {
        "id": "zhSkjnbaF9De",
        "colab": {
          "base_uri": "https://localhost:8080/",
          "height": 1000
        },
        "outputId": "e29ef472-e0c5-479f-9606-128f77839129"
      },
      "execution_count": 17,
      "outputs": [
        {
          "output_type": "display_data",
          "data": {
            "text/plain": [
              "<Figure size 800x600 with 1 Axes>"
            ],
            "image/png": "[encoded data removed]"
          },
          "metadata": {}
        },
        {
          "output_type": "stream",
          "name": "stdout",
          "text": [
            "                     Age    Income  LoanAmount  CreditScore  MonthsEmployed  \\\n",
            "Age             1.000000  0.003765   -0.005986     0.004335       -0.000956   \n",
            "Income          0.003765  1.000000   -0.221256     0.042795        0.002847   \n",
            "LoanAmount     -0.005986 -0.221256    1.000000    -0.029612       -0.005025   \n",
            "CreditScore     0.004335  0.042795   -0.029612     1.000000       -0.001075   \n",
            "MonthsEmployed -0.000956  0.002847   -0.005025    -0.001075        1.000000   \n",
            "InterestRate    0.000771  0.000983   -0.001374     0.000316       -0.001077   \n",
            "LoanTerm       -0.000658  0.002110   -0.003303    -0.000417       -0.000722   \n",
            "DTIRatio       -0.000760 -0.041351    0.027351    -0.007179       -0.000645   \n",
            "Default        -0.015746 -0.306916    0.229759    -0.047776       -0.000351   \n",
            "\n",
            "                InterestRate  LoanTerm  DTIRatio   Default  \n",
            "Age                 0.000771 -0.000658 -0.000760 -0.015746  \n",
            "Income              0.000983  0.002110 -0.041351 -0.306916  \n",
            "LoanAmount         -0.001374 -0.003303  0.027351  0.229759  \n",
            "CreditScore         0.000316 -0.000417 -0.007179 -0.047776  \n",
            "MonthsEmployed     -0.001077 -0.000722 -0.000645 -0.000351  \n",
            "InterestRate        1.000000  0.000415  0.001640 -0.000689  \n",
            "LoanTerm            0.000415  1.000000  0.000215 -0.011877  \n",
            "DTIRatio            0.001640  0.000215  1.000000  0.050030  \n",
            "Default            -0.000689 -0.011877  0.050030  1.000000  \n"
          ]
        },
        {
          "output_type": "display_data",
          "data": {
            "text/plain": [
              "<Figure size 1200x1000 with 2 Axes>"
            ],
            "image/png": "[encoded data removed]"
          },
          "metadata": {}
        },
        {
          "output_type": "execute_result",
          "data": {
            "text/plain": [
              "((1284686, 8), (550580, 8), (1284686,), (550580,))"
            ]
          },
          "metadata": {},
          "execution_count": 17
        }
      ]
    },
    {
      "cell_type": "code",
      "source": [
        "#Entrypoint 2.x\n",
        "from pyspark.sql import SparkSession\n",
        "spark = SparkSession.builder.master(\"local\").appName(\"Spark SQL basic example\").enableHiveSupport().getOrCreate()\n",
        "\n",
        "# On yarn:\n",
        "# spark = SparkSession.builder.appName(\"Spark SQL basic example\").enableHiveSupport().master(\"yarn\").getOrCreate()\n",
        "# specify .master(\"yarn\")\n",
        "\n",
        "sc = spark.sparkContext\n",
        "\n",
        "file_path =\"/content/Synthetic_Loan_Default_Dataset.csv\"\n",
        "\n",
        "# Create an DataFrame from file_path\n",
        "df = spark.read.csv(file_path,header=True,inferSchema=True)\n",
        "\n",
        "# Check the type of people_df\n",
        "#print(\"The type of people_df is\", type(people_df))\n",
        "\n",
        "from pyspark.sql.functions import col\n",
        "# Get the total count of records\n",
        "total_count = df.count()\n",
        "\n",
        "# Get the count of each class (0 and 1)\n",
        "class_counts = df.groupBy(\"Default\").count()\n",
        "\n",
        "# Calculate the proportion of each class\n",
        "class_proportions = class_counts.withColumn(\"proportion\", col(\"count\") / total_count)\n",
        "\n",
        "# Show the result\n",
        "class_proportions.show()"
      ],
      "metadata": {
        "id": "fO33v4WwFaPf",
        "colab": {
          "base_uri": "https://localhost:8080/"
        },
        "outputId": "12215a66-a06e-40d2-ba73-848569cb4dae"
      },
      "execution_count": 19,
      "outputs": [
        {
          "output_type": "stream",
          "name": "stdout",
          "text": [
            "+-------+------+----------+\n",
            "|Default| count|proportion|\n",
            "+-------+------+----------+\n",
            "|      1| 82367|  0.082367|\n",
            "|      0|917633|  0.917633|\n",
            "+-------+------+----------+\n",
            "\n"
          ]
        }
      ]
    },
    {
      "cell_type": "code",
      "source": [
        "from sklearn.linear_model import LogisticRegression\n",
        "from sklearn.metrics import accuracy_score, confusion_matrix, classification_report, recall_score\n",
        "\n",
        "# Use balanced class weights to improve recall on minority class\n",
        "logreg = LogisticRegression(class_weight='balanced', random_state=7, max_iter=1000)\n",
        "\n",
        "# Fit the model\n",
        "logreg.fit(X_train, Y_train)\n",
        "\n",
        "# Predict\n",
        "y_pred = logreg.predict(X_test)\n",
        "\n",
        "# Evaluate\n",
        "accuracy = accuracy_score(Y_test, y_pred)\n",
        "recall = recall_score(Y_test, y_pred)\n",
        "conf_matrix = confusion_matrix(Y_test, y_pred)\n",
        "\n",
        "\n",
        "print(f\"✅ Accuracy: {accuracy:.4f}\")\n",
        "print(f\"🔁 Recall: {recall:.4f}\")\n",
        "\n",
        "\n",
        "\n",
        "\n"
      ],
      "metadata": {
        "id": "mmaWUk9VGJz2",
        "colab": {
          "base_uri": "https://localhost:8080/"
        },
        "outputId": "62463534-17a4-49ae-97e7-6a03849fb814"
      },
      "execution_count": 20,
      "outputs": [
        {
          "output_type": "stream",
          "name": "stdout",
          "text": [
            "✅ Accuracy: 0.6359\n",
            "🔁 Recall: 0.6212\n",
            "\n",
            "📊 Confusion Matrix:\n"
          ]
        }
      ]
    },
    {
      "cell_type": "code",
      "source": [
        "from sklearn.ensemble import RandomForestClassifier\n",
        "\n",
        "rf = RandomForestClassifier(class_weight='balanced', random_state=7, n_jobs=-1)\n",
        "rf.fit(X_train, Y_train)\n",
        "\n",
        "y_pred_rf = rf.predict(X_test)\n",
        "\n",
        "print(\"🌲 Random Forest\")\n",
        "print(f\"✅ Accuracy: {accuracy_score(Y_test, y_pred_rf):.4f}\")\n",
        "print(f\"🔁 Recall: {recall_score(Y_test, y_pred_rf):.4f}\")\n",
        "print(confusion_matrix(Y_test, y_pred_rf))\n",
        "print(classification_report(Y_test, y_pred_rf))\n"
      ],
      "metadata": {
        "id": "21MFLMq3KUQq",
        "colab": {
          "base_uri": "https://localhost:8080/"
        },
        "outputId": "2728f646-70b1-4f90-deb7-a6f87b838195"
      },
      "execution_count": 21,
      "outputs": [
        {
          "output_type": "stream",
          "name": "stdout",
          "text": [
            "🌲 Random Forest\n",
            "✅ Accuracy: 0.9250\n",
            "🔁 Recall: 0.8666\n",
            "[[270871   4625]\n",
            " [ 36689 238395]]\n",
            "              precision    recall  f1-score   support\n",
            "\n",
            "           0       0.88      0.98      0.93    275496\n",
            "           1       0.98      0.87      0.92    275084\n",
            "\n",
            "    accuracy                           0.92    550580\n",
            "   macro avg       0.93      0.92      0.92    550580\n",
            "weighted avg       0.93      0.92      0.92    550580\n",
            "\n"
          ]
        }
      ]
    },
    {
      "cell_type": "code",
      "source": [
        "from xgboost import XGBClassifier\n",
        "\n",
        "xgb = XGBClassifier(scale_pos_weight=Y_train.value_counts()[0] / Y_train.value_counts()[1],\n",
        "                     eval_metric='logloss', random_state=7)\n",
        "xgb.fit(X_train, Y_train)\n",
        "\n",
        "y_pred_xgb = xgb.predict(X_test)\n",
        "\n",
        "print(\"\\n⚡ XGBoost\")\n",
        "print(f\"✅ Accuracy: {accuracy_score(Y_test, y_pred_xgb):.4f}\")\n",
        "print(f\"🔁 Recall: {recall_score(Y_test, y_pred_xgb):.4f}\")\n",
        "print(confusion_matrix(Y_test, y_pred_xgb))\n",
        "print(classification_report(Y_test, y_pred_xgb))\n"
      ],
      "metadata": {
        "id": "nlfAzr8aKHT4",
        "colab": {
          "base_uri": "https://localhost:8080/"
        },
        "outputId": "a67549cd-9a6c-4963-b1d0-9a7802a10ddb"
      },
      "execution_count": 23,
      "outputs": [
        {
          "output_type": "stream",
          "name": "stdout",
          "text": [
            "\n",
            "⚡ XGBoost\n",
            "✅ Accuracy: 0.9324\n",
            "🔁 Recall: 0.8773\n",
            "[[272010   3486]\n",
            " [ 33752 241332]]\n",
            "              precision    recall  f1-score   support\n",
            "\n",
            "           0       0.89      0.99      0.94    275496\n",
            "           1       0.99      0.88      0.93    275084\n",
            "\n",
            "    accuracy                           0.93    550580\n",
            "   macro avg       0.94      0.93      0.93    550580\n",
            "weighted avg       0.94      0.93      0.93    550580\n",
            "\n"
          ]
        }
      ]
    },
    {
      "cell_type": "code",
      "source": [
        "# Install CatBoost (only needed in notebooks)\n",
        "%pip install catboost\n",
        "\n",
        "# Import CatBoostClassifier\n",
        "from catboost import CatBoostClassifier\n",
        "from sklearn.model_selection import train_test_split\n",
        "from sklearn.metrics import accuracy_score, confusion_matrix, classification_report, recall_score\n",
        "\n",
        "\n",
        "#Only keep required features\n",
        "selected_features = [\n",
        "    'Age', 'Income', 'LoanAmount', 'CreditScore', 'MonthsEmployed',\n",
        "     'InterestRate', 'LoanTerm', 'DTIRatio'\n",
        "]\n",
        "\n",
        "# Use the resampled_df DataFrame for train-test split\n",
        "X = resampled_df[selected_features]\n",
        "y = resampled_df['Default']\n",
        "\n",
        "# ✅ Train-test split\n",
        "X_train, X_test, Y_train, Y_test = train_test_split(X, y, test_size=0.2, random_state=7)\n",
        "\n",
        "# ✅ Train CatBoost with selected features\n",
        "cat = CatBoostClassifier(auto_class_weights='Balanced', verbose=0, random_state=7)\n",
        "cat.fit(X_train, Y_train)\n",
        "\n",
        "# ✅ Predict\n",
        "y_pred_cat = cat.predict(X_test)\n",
        "\n",
        "# ✅ Evaluation\n",
        "print(\"\\n🐱 CatBoost\")\n",
        "print(f\"✅ Accuracy: {accuracy_score(Y_test, y_pred_cat):.4f}\")\n",
        "print(f\"🔁 Recall: {recall_score(Y_test, y_pred_cat):.4f}\")\n",
        "print(confusion_matrix(Y_test, y_pred_cat))\n",
        "print(classification_report(Y_test, y_pred_cat))"
      ],
      "metadata": {
        "id": "mvrnpOH5GpNn",
        "colab": {
          "base_uri": "https://localhost:8080/"
        },
        "outputId": "2a40a6ed-515e-46fe-8c00-1ab96919a9a4"
      },
      "execution_count": 25,
      "outputs": [
        {
          "output_type": "stream",
          "name": "stdout",
          "text": [
            "Requirement already satisfied: catboost in /usr/local/lib/python3.11/dist-packages (1.2.8)\n",
            "Requirement already satisfied: graphviz in /usr/local/lib/python3.11/dist-packages (from catboost) (0.21)\n",
            "Requirement already satisfied: matplotlib in /usr/local/lib/python3.11/dist-packages (from catboost) (3.10.0)\n",
            "Requirement already satisfied: numpy<3.0,>=1.16.0 in /usr/local/lib/python3.11/dist-packages (from catboost) (2.0.2)\n",
            "Requirement already satisfied: pandas>=0.24 in /usr/local/lib/python3.11/dist-packages (from catboost) (2.2.2)\n",
            "Requirement already satisfied: scipy in /usr/local/lib/python3.11/dist-packages (from catboost) (1.16.0)\n",
            "Requirement already satisfied: plotly in /usr/local/lib/python3.11/dist-packages (from catboost) (5.24.1)\n",
            "Requirement already satisfied: six in /usr/local/lib/python3.11/dist-packages (from catboost) (1.17.0)\n",
            "Requirement already satisfied: python-dateutil>=2.8.2 in /usr/local/lib/python3.11/dist-packages (from pandas>=0.24->catboost) (2.9.0.post0)\n",
            "Requirement already satisfied: pytz>=2020.1 in /usr/local/lib/python3.11/dist-packages (from pandas>=0.24->catboost) (2025.2)\n",
            "Requirement already satisfied: tzdata>=2022.7 in /usr/local/lib/python3.11/dist-packages (from pandas>=0.24->catboost) (2025.2)\n",
            "Requirement already satisfied: contourpy>=1.0.1 in /usr/local/lib/python3.11/dist-packages (from matplotlib->catboost) (1.3.2)\n",
            "Requirement already satisfied: cycler>=0.10 in /usr/local/lib/python3.11/dist-packages (from matplotlib->catboost) (0.12.1)\n",
            "Requirement already satisfied: fonttools>=4.22.0 in /usr/local/lib/python3.11/dist-packages (from matplotlib->catboost) (4.59.0)\n",
            "Requirement already satisfied: kiwisolver>=1.3.1 in /usr/local/lib/python3.11/dist-packages (from matplotlib->catboost) (1.4.8)\n",
            "Requirement already satisfied: packaging>=20.0 in /usr/local/lib/python3.11/dist-packages (from matplotlib->catboost) (25.0)\n",
            "Requirement already satisfied: pillow>=8 in /usr/local/lib/python3.11/dist-packages (from matplotlib->catboost) (11.3.0)\n",
            "Requirement already satisfied: pyparsing>=2.3.1 in /usr/local/lib/python3.11/dist-packages (from matplotlib->catboost) (3.2.3)\n",
            "Requirement already satisfied: tenacity>=6.2.0 in /usr/local/lib/python3.11/dist-packages (from plotly->catboost) (8.5.0)\n",
            "\n",
            "🐱 CatBoost\n",
            "✅ Accuracy: 0.9643\n",
            "🔁 Recall: 0.9350\n",
            "[[182851   1207]\n",
            " [ 11890 171106]]\n",
            "              precision    recall  f1-score   support\n",
            "\n",
            "           0       0.94      0.99      0.97    184058\n",
            "           1       0.99      0.94      0.96    182996\n",
            "\n",
            "    accuracy                           0.96    367054\n",
            "   macro avg       0.97      0.96      0.96    367054\n",
            "weighted avg       0.97      0.96      0.96    367054\n",
            "\n"
          ]
        }
      ]
    },
    {
      "cell_type": "code",
      "source": [
        "import joblib\n",
        "\n",
        "# Save the best model\n",
        "joblib.dump(cat, \"best_Catboost_model.pkl\")\n",
        "print(\"✅ CatBoost model saved as best_CatBoost_model.pkl\")\n"
      ],
      "metadata": {
        "id": "p6pewVrgLWz_",
        "colab": {
          "base_uri": "https://localhost:8080/"
        },
        "outputId": "ffe18025-77ed-443a-b119-7a3a7d6c0c31"
      },
      "execution_count": 28,
      "outputs": [
        {
          "output_type": "stream",
          "name": "stdout",
          "text": [
            "✅ CatBoost model saved as best_CatBoost_model.pkl\n"
          ]
        }
      ]
    },
    {
      "cell_type": "code",
      "source": [
        "!pip install streamlit\n",
        "import streamlit as st\n",
        "import pandas as pd\n",
        "import numpy as np\n",
        "import joblib\n",
        "\n",
        "# Set Streamlit page configuration\n",
        "st.set_page_config(page_title=\"Loan Risk Predictor\", page_icon=\"🏦\")\n",
        "\n",
        "# Load trained XGBoost model\n",
        "model = joblib.load(\"best_CatBoost_model.pkl\")  # Replace with your actual model path\n",
        "\n",
        "# App title\n",
        "st.title(\"🏦 Loan Default Risk Predictor\")\n",
        "st.markdown(\"Use this tool to assess the risk of default before approving a loan.\")\n",
        "\n",
        "# Input form\n",
        "st.markdown(\"### 📋 Enter Applicant Details\")\n",
        "\n",
        "age = st.slider(\"Age\", 18, 75, 30)\n",
        "income = st.number_input(\"Monthly Income (₹)\", min_value=0, value=30000)\n",
        "loan_amount = st.number_input(\"Loan Amount (₹)\", min_value=1000, value=100000)\n",
        "credit_score = st.slider(\"Credit Score\", 300, 850, 650)\n",
        "months_employed = st.slider(\"Months Employed\", 0, 600, 36)\n",
        "interest_rate = st.slider(\"Interest Rate (%)\", 0.0, 30.0, 12.0)\n",
        "loan_term = st.selectbox(\"Loan Term (months)\", [12, 24, 36, 48, 60])\n",
        "dti_ratio = st.slider(\"DTI Ratio (%)\", 0.0, 100.0, 35.0)\n",
        "\n",
        "# Prediction trigger\n",
        "if st.button(\"Check Loan Risk\"):\n",
        "    # Create input DataFrame\n",
        "    input_data = pd.DataFrame([{\n",
        "        'Age': age,\n",
        "        'Income': income,\n",
        "        'LoanAmount': loan_amount,\n",
        "        'CreditScore': credit_score,\n",
        "        'MonthsEmployed': months_employed,\n",
        "        'InterestRate': interest_rate,\n",
        "        'LoanTerm': loan_term,\n",
        "        'DTIRatio': dti_ratio\n",
        "    }])\n",
        "\n",
        "    # Get prediction probability\n",
        "    prob = model.predict_proba(input_data)[0][1]\n",
        "\n",
        "    # Custom threshold\n",
        "    threshold = 0.35\n",
        "    prediction = 1 if prob >= threshold else 0\n",
        "\n",
        "    # Result output\n",
        "    st.markdown(\"### 🔍 Prediction Result\")\n",
        "    if prediction == 1:\n",
        "        st.error(f\"🚫 **Risky**: {prob:.2%} chance of default. Loan should be avoided.\")\n",
        "    else:\n",
        "        st.success(f\"✅ **Safe**: Only {prob:.2%} chance of default. Loan may be granted.\")\n",
        "\n",
        "    # Model output\n",
        "    st.markdown(\"### 📊 Model Output\")\n",
        "    st.write(f\"Prediction Class (threshold @ {threshold:.2f}): `{prediction}` (1 = Risky, 0 = Safe)\")\n",
        "    st.write(f\"Probability of Default: `{prob:.4f}`\")\n"
      ],
      "metadata": {
        "id": "4PTfgxTNMma7",
        "colab": {
          "base_uri": "https://localhost:8080/",
          "height": 1000
        },
        "outputId": "7a7643ce-de4d-4a57-c621-4c8a15bd1f77"
      },
      "execution_count": 29,
      "outputs": [
        {
          "output_type": "stream",
          "name": "stdout",
          "text": [
            "Requirement already satisfied: streamlit in /usr/local/lib/python3.11/dist-packages (1.47.1)\n",
            "Requirement already satisfied: altair<6,>=4.0 in /usr/local/lib/python3.11/dist-packages (from streamlit) (5.5.0)\n",
            "Requirement already satisfied: blinker<2,>=1.5.0 in /usr/local/lib/python3.11/dist-packages (from streamlit) (1.9.0)\n",
            "Requirement already satisfied: cachetools<7,>=4.0 in /usr/local/lib/python3.11/dist-packages (from streamlit) (5.5.2)\n",
            "Requirement already satisfied: click<9,>=7.0 in /usr/local/lib/python3.11/dist-packages (from streamlit) (8.2.1)\n",
            "Requirement already satisfied: numpy<3,>=1.23 in /usr/local/lib/python3.11/dist-packages (from streamlit) (2.0.2)\n",
            "Requirement already satisfied: packaging<26,>=20 in /usr/local/lib/python3.11/dist-packages (from streamlit) (25.0)\n",
            "Requirement already satisfied: pandas<3,>=1.4.0 in /usr/local/lib/python3.11/dist-packages (from streamlit) (2.2.2)\n",
            "Requirement already satisfied: pillow<12,>=7.1.0 in /usr/local/lib/python3.11/dist-packages (from streamlit) (11.3.0)\n",
            "Requirement already satisfied: protobuf<7,>=3.20 in /usr/local/lib/python3.11/dist-packages (from streamlit) (5.29.5)\n",
            "Requirement already satisfied: pyarrow>=7.0 in /usr/local/lib/python3.11/dist-packages (from streamlit) (18.1.0)\n",
            "Requirement already satisfied: requests<3,>=2.27 in /usr/local/lib/python3.11/dist-packages (from streamlit) (2.32.3)\n",
            "Requirement already satisfied: tenacity<10,>=8.1.0 in /usr/local/lib/python3.11/dist-packages (from streamlit) (8.5.0)\n",
            "Requirement already satisfied: toml<2,>=0.10.1 in /usr/local/lib/python3.11/dist-packages (from streamlit) (0.10.2)\n",
            "Requirement already satisfied: typing-extensions<5,>=4.4.0 in /usr/local/lib/python3.11/dist-packages (from streamlit) (4.14.1)\n",
            "Requirement already satisfied: watchdog<7,>=2.1.5 in /usr/local/lib/python3.11/dist-packages (from streamlit) (6.0.0)\n",
            "Requirement already satisfied: gitpython!=3.1.19,<4,>=3.0.7 in /usr/local/lib/python3.11/dist-packages (from streamlit) (3.1.45)\n",
            "Requirement already satisfied: pydeck<1,>=0.8.0b4 in /usr/local/lib/python3.11/dist-packages (from streamlit) (0.9.1)\n",
            "Requirement already satisfied: tornado!=6.5.0,<7,>=6.0.3 in /usr/local/lib/python3.11/dist-packages (from streamlit) (6.4.2)\n",
            "Requirement already satisfied: jinja2 in /usr/local/lib/python3.11/dist-packages (from altair<6,>=4.0->streamlit) (3.1.6)\n",
            "Requirement already satisfied: jsonschema>=3.0 in /usr/local/lib/python3.11/dist-packages (from altair<6,>=4.0->streamlit) (4.25.0)\n",
            "Requirement already satisfied: narwhals>=1.14.2 in /usr/local/lib/python3.11/dist-packages (from altair<6,>=4.0->streamlit) (1.48.1)\n",
            "Requirement already satisfied: gitdb<5,>=4.0.1 in /usr/local/lib/python3.11/dist-packages (from gitpython!=3.1.19,<4,>=3.0.7->streamlit) (4.0.12)\n",
            "Requirement already satisfied: python-dateutil>=2.8.2 in /usr/local/lib/python3.11/dist-packages (from pandas<3,>=1.4.0->streamlit) (2.9.0.post0)\n",
            "Requirement already satisfied: pytz>=2020.1 in /usr/local/lib/python3.11/dist-packages (from pandas<3,>=1.4.0->streamlit) (2025.2)\n",
            "Requirement already satisfied: tzdata>=2022.7 in /usr/local/lib/python3.11/dist-packages (from pandas<3,>=1.4.0->streamlit) (2025.2)\n",
            "Requirement already satisfied: charset-normalizer<4,>=2 in /usr/local/lib/python3.11/dist-packages (from requests<3,>=2.27->streamlit) (3.4.2)\n",
            "Requirement already satisfied: idna<4,>=2.5 in /usr/local/lib/python3.11/dist-packages (from requests<3,>=2.27->streamlit) (3.10)\n",
            "Requirement already satisfied: urllib3<3,>=1.21.1 in /usr/local/lib/python3.11/dist-packages (from requests<3,>=2.27->streamlit) (2.5.0)\n",
            "Requirement already satisfied: certifi>=2017.4.17 in /usr/local/lib/python3.11/dist-packages (from requests<3,>=2.27->streamlit) (2025.7.14)\n",
            "Requirement already satisfied: smmap<6,>=3.0.1 in /usr/local/lib/python3.11/dist-packages (from gitdb<5,>=4.0.1->gitpython!=3.1.19,<4,>=3.0.7->streamlit) (5.0.2)\n",
            "Requirement already satisfied: MarkupSafe>=2.0 in /usr/local/lib/python3.11/dist-packages (from jinja2->altair<6,>=4.0->streamlit) (3.0.2)\n",
            "Requirement already satisfied: attrs>=22.2.0 in /usr/local/lib/python3.11/dist-packages (from jsonschema>=3.0->altair<6,>=4.0->streamlit) (25.3.0)\n",
            "Requirement already satisfied: jsonschema-specifications>=2023.03.6 in /usr/local/lib/python3.11/dist-packages (from jsonschema>=3.0->altair<6,>=4.0->streamlit) (2025.4.1)\n",
            "Requirement already satisfied: referencing>=0.28.4 in /usr/local/lib/python3.11/dist-packages (from jsonschema>=3.0->altair<6,>=4.0->streamlit) (0.36.2)\n",
            "Requirement already satisfied: rpds-py>=0.7.1 in /usr/local/lib/python3.11/dist-packages (from jsonschema>=3.0->altair<6,>=4.0->streamlit) (0.26.0)\n",
            "Requirement already satisfied: six>=1.5 in /usr/local/lib/python3.11/dist-packages (from python-dateutil>=2.8.2->pandas<3,>=1.4.0->streamlit) (1.17.0)\n"
          ]
        },
        {
          "output_type": "stream",
          "name": "stderr",
          "text": [
            "2025-08-04 04:11:43.012 WARNING streamlit.runtime.scriptrunner_utils.script_run_context: Thread 'MainThread': missing ScriptRunContext! This warning can be ignored when running in bare mode.\n"
          ]
        },
        {
          "output_type": "error",
          "ename": "FileNotFoundError",
          "evalue": "[Errno 2] No such file or directory: 'best_CatBoost_model.pkl'",
          "traceback": [
            "\u001b[0;31m---------------------------------------------------------------------------\u001b[0m",
            "\u001b[0;31mFileNotFoundError\u001b[0m                         Traceback (most recent call last)",
            "\u001b[0;32m/tmp/ipython-input-1701516937.py\u001b[0m in \u001b[0;36m<cell line: 0>\u001b[0;34m()\u001b[0m\n\u001b[1;32m      9\u001b[0m \u001b[0;34m\u001b[0m\u001b[0m\n\u001b[1;32m     10\u001b[0m \u001b[0;31m# Load trained XGBoost model\u001b[0m\u001b[0;34m\u001b[0m\u001b[0;34m\u001b[0m\u001b[0m\n\u001b[0;32m---> 11\u001b[0;31m \u001b[0mmodel\u001b[0m \u001b[0;34m=\u001b[0m \u001b[0mjoblib\u001b[0m\u001b[0;34m.\u001b[0m\u001b[0mload\u001b[0m\u001b[0;34m(\u001b[0m\u001b[0;34m\"best_CatBoost_model.pkl\"\u001b[0m\u001b[0;34m)\u001b[0m  \u001b[0;31m# Replace with your actual model path\u001b[0m\u001b[0;34m\u001b[0m\u001b[0;34m\u001b[0m\u001b[0m\n\u001b[0m\u001b[1;32m     12\u001b[0m \u001b[0;34m\u001b[0m\u001b[0m\n\u001b[1;32m     13\u001b[0m \u001b[0;31m# App title\u001b[0m\u001b[0;34m\u001b[0m\u001b[0;34m\u001b[0m\u001b[0m\n",
            "\u001b[0;32m/usr/local/lib/python3.11/dist-packages/joblib/numpy_pickle.py\u001b[0m in \u001b[0;36mload\u001b[0;34m(filename, mmap_mode, ensure_native_byte_order)\u001b[0m\n\u001b[1;32m    733\u001b[0m             \u001b[0mobj\u001b[0m \u001b[0;34m=\u001b[0m \u001b[0m_unpickle\u001b[0m\u001b[0;34m(\u001b[0m\u001b[0mfobj\u001b[0m\u001b[0;34m,\u001b[0m \u001b[0mensure_native_byte_order\u001b[0m\u001b[0;34m=\u001b[0m\u001b[0mensure_native_byte_order\u001b[0m\u001b[0;34m)\u001b[0m\u001b[0;34m\u001b[0m\u001b[0;34m\u001b[0m\u001b[0m\n\u001b[1;32m    734\u001b[0m     \u001b[0;32melse\u001b[0m\u001b[0;34m:\u001b[0m\u001b[0;34m\u001b[0m\u001b[0;34m\u001b[0m\u001b[0m\n\u001b[0;32m--> 735\u001b[0;31m         \u001b[0;32mwith\u001b[0m \u001b[0mopen\u001b[0m\u001b[0;34m(\u001b[0m\u001b[0mfilename\u001b[0m\u001b[0;34m,\u001b[0m \u001b[0;34m\"rb\"\u001b[0m\u001b[0;34m)\u001b[0m \u001b[0;32mas\u001b[0m \u001b[0mf\u001b[0m\u001b[0;34m:\u001b[0m\u001b[0;34m\u001b[0m\u001b[0;34m\u001b[0m\u001b[0m\n\u001b[0m\u001b[1;32m    736\u001b[0m             with _validate_fileobject_and_memmap(f, filename, mmap_mode) as (\n\u001b[1;32m    737\u001b[0m                 \u001b[0mfobj\u001b[0m\u001b[0;34m,\u001b[0m\u001b[0;34m\u001b[0m\u001b[0;34m\u001b[0m\u001b[0m\n",
            "\u001b[0;31mFileNotFoundError\u001b[0m: [Errno 2] No such file or directory: 'best_CatBoost_model.pkl'"
          ]
        }
      ]
    }
  ]
}